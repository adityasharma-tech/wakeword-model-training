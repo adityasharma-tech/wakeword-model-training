{
 "cells": [
  {
   "cell_type": "code",
   "execution_count": 2,
   "id": "08a81a73-b43c-42d9-9584-5229b93a9483",
   "metadata": {},
   "outputs": [],
   "source": [
    "import pyaudio"
   ]
  },
  {
   "cell_type": "code",
   "execution_count": 4,
   "id": "b43af321-f1f0-4bf0-aaea-3df94319f222",
   "metadata": {},
   "outputs": [
    {
     "name": "stderr",
     "output_type": "stream",
     "text": [
      "ALSA lib conf.c:4029:(snd_config_hooks_call) Cannot open shared library libasound_module_conf_pulse.so (/home/friday/miniconda3/envs/wakeword/lib/alsa-lib/libasound_module_conf_pulse.so: cannot open shared object file: No such file or directory)\n",
      "ALSA lib control.c:1575:(snd_ctl_open_noupdate) Invalid CTL hw:0\n",
      "ALSA lib pcm_dmix.c:1000:(snd_pcm_dmix_open) unable to open slave\n",
      "ALSA lib pcm.c:2722:(snd_pcm_open_noupdate) Unknown PCM cards.pcm.rear\n",
      "ALSA lib pcm.c:2722:(snd_pcm_open_noupdate) Unknown PCM cards.pcm.center_lfe\n",
      "ALSA lib pcm.c:2722:(snd_pcm_open_noupdate) Unknown PCM cards.pcm.side\n",
      "ALSA lib pcm_route.c:878:(find_matching_chmap) Found no matching channel map\n",
      "ALSA lib dlmisc.c:339:(snd_dlobj_cache_get0) Cannot open shared library libasound_module_rate_samplerate.so (/home/friday/miniconda3/envs/wakeword/lib/alsa-lib/libasound_module_rate_samplerate.so: cannot open shared object file: No such file or directory)\n",
      "ALSA lib pcm_rate.c:1581:(snd_pcm_rate_open) Cannot find rate converter\n",
      "ALSA lib dlmisc.c:339:(snd_dlobj_cache_get0) Cannot open shared library libasound_module_rate_speexrate.so (/home/friday/miniconda3/envs/wakeword/lib/alsa-lib/libasound_module_rate_speexrate.so: cannot open shared object file: No such file or directory)\n",
      "ALSA lib pcm_rate.c:1581:(snd_pcm_rate_open) Cannot find rate converter\n",
      "ALSA lib dlmisc.c:339:(snd_dlobj_cache_get0) Cannot open shared library libasound_module_pcm_jack.so (/home/friday/miniconda3/envs/wakeword/lib/alsa-lib/libasound_module_pcm_jack.so: cannot open shared object file: No such file or directory)\n",
      "ALSA lib dlmisc.c:339:(snd_dlobj_cache_get0) Cannot open shared library libasound_module_pcm_jack.so (/home/friday/miniconda3/envs/wakeword/lib/alsa-lib/libasound_module_pcm_jack.so: cannot open shared object file: No such file or directory)\n",
      "ALSA lib dlmisc.c:339:(snd_dlobj_cache_get0) Cannot open shared library libasound_module_pcm_oss.so (/home/friday/miniconda3/envs/wakeword/lib/alsa-lib/libasound_module_pcm_oss.so: cannot open shared object file: No such file or directory)\n",
      "ALSA lib dlmisc.c:339:(snd_dlobj_cache_get0) Cannot open shared library libasound_module_pcm_oss.so (/home/friday/miniconda3/envs/wakeword/lib/alsa-lib/libasound_module_pcm_oss.so: cannot open shared object file: No such file or directory)\n",
      "ALSA lib dlmisc.c:339:(snd_dlobj_cache_get0) Cannot open shared library libasound_module_pcm_pulse.so (/home/friday/miniconda3/envs/wakeword/lib/alsa-lib/libasound_module_pcm_pulse.so: cannot open shared object file: No such file or directory)\n",
      "ALSA lib dlmisc.c:339:(snd_dlobj_cache_get0) Cannot open shared library libasound_module_pcm_pulse.so (/home/friday/miniconda3/envs/wakeword/lib/alsa-lib/libasound_module_pcm_pulse.so: cannot open shared object file: No such file or directory)\n",
      "ALSA lib dlmisc.c:339:(snd_dlobj_cache_get0) Cannot open shared library libasound_module_pcm_upmix.so (/home/friday/miniconda3/envs/wakeword/lib/alsa-lib/libasound_module_pcm_upmix.so: cannot open shared object file: No such file or directory)\n",
      "ALSA lib dlmisc.c:339:(snd_dlobj_cache_get0) Cannot open shared library libasound_module_pcm_upmix.so (/home/friday/miniconda3/envs/wakeword/lib/alsa-lib/libasound_module_pcm_upmix.so: cannot open shared object file: No such file or directory)\n",
      "ALSA lib dlmisc.c:339:(snd_dlobj_cache_get0) Cannot open shared library libasound_module_pcm_vdownmix.so (/home/friday/miniconda3/envs/wakeword/lib/alsa-lib/libasound_module_pcm_vdownmix.so: cannot open shared object file: No such file or directory)\n",
      "ALSA lib dlmisc.c:339:(snd_dlobj_cache_get0) Cannot open shared library libasound_module_pcm_vdownmix.so (/home/friday/miniconda3/envs/wakeword/lib/alsa-lib/libasound_module_pcm_vdownmix.so: cannot open shared object file: No such file or directory)\n",
      "ALSA lib dlmisc.c:339:(snd_dlobj_cache_get0) Cannot open shared library libasound_module_pcm_usb_stream.so (/home/friday/miniconda3/envs/wakeword/lib/alsa-lib/libasound_module_pcm_usb_stream.so: cannot open shared object file: No such file or directory)\n",
      "ALSA lib dlmisc.c:339:(snd_dlobj_cache_get0) Cannot open shared library libasound_module_pcm_usb_stream.so (/home/friday/miniconda3/envs/wakeword/lib/alsa-lib/libasound_module_pcm_usb_stream.so: cannot open shared object file: No such file or directory)\n",
      "ALSA lib pcm_dmix.c:1000:(snd_pcm_dmix_open) unable to open slave\n",
      "ALSA lib pcm_dmix.c:1000:(snd_pcm_dmix_open) unable to open slave\n"
     ]
    }
   ],
   "source": [
    "audio = pyaudio.PyAudio()"
   ]
  },
  {
   "cell_type": "code",
   "execution_count": null,
   "id": "5448aec3-4bd8-4e41-993a-fb2f2e162310",
   "metadata": {},
   "outputs": [],
   "source": [
    "stream = "
   ]
  }
 ],
 "metadata": {
  "kernelspec": {
   "display_name": "Python 3 (ipykernel)",
   "language": "python",
   "name": "python3"
  },
  "language_info": {
   "codemirror_mode": {
    "name": "ipython",
    "version": 3
   },
   "file_extension": ".py",
   "mimetype": "text/x-python",
   "name": "python",
   "nbconvert_exporter": "python",
   "pygments_lexer": "ipython3",
   "version": "3.11.13"
  }
 },
 "nbformat": 4,
 "nbformat_minor": 5
}
