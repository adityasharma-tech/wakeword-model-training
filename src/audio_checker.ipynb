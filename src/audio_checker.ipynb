{
 "cells": [
  {
   "cell_type": "code",
   "id": "08a81a73-b43c-42d9-9584-5229b93a9483",
   "metadata": {},
   "source": "import pyaudio",
   "outputs": [],
   "execution_count": null
  },
  {
   "cell_type": "code",
   "id": "b43af321-f1f0-4bf0-aaea-3df94319f222",
   "metadata": {},
   "source": [
    "audio = pyaudio.PyAudio()"
   ],
   "outputs": [],
   "execution_count": null
  },
  {
   "metadata": {},
   "cell_type": "code",
   "source": [
    "FORMAT = pyaudio.paInt16\n",
    "SAMPLE_RATE = 16000\n",
    "CHUNK_SIZE = 512\n",
    "CHANNELS = 2"
   ],
   "id": "1db6eae8af28add1",
   "outputs": [],
   "execution_count": null
  },
  {
   "metadata": {},
   "cell_type": "markdown",
   "source": [
    "#### Important\n",
    "> Actual sample rate of the audio is 16000 but using 44100 and resampling it due to 16000 sample rate output is not supported by the current hardware"
   ],
   "id": "39c6201d487ffa3c"
  },
  {
   "cell_type": "code",
   "id": "5448aec3-4bd8-4e41-993a-fb2f2e162310",
   "metadata": {},
   "source": "stream = audio.open(format=FORMAT, channels=CHANNELS, output=True, rate=44100)",
   "outputs": [],
   "execution_count": null
  },
  {
   "metadata": {},
   "cell_type": "code",
   "source": "info = audio.get_default_output_device_info()",
   "id": "d78c7f6efe6d874b",
   "outputs": [],
   "execution_count": null
  },
  {
   "metadata": {},
   "cell_type": "code",
   "source": [
    "import os\n",
    "import wave\n",
    "import shutil\n",
    "import numpy as np\n",
    "\n",
    "from scipy.signal import resample"
   ],
   "id": "7d2019e31914c0d0",
   "outputs": [],
   "execution_count": null
  },
  {
   "metadata": {},
   "cell_type": "code",
   "source": [
    "def play_audio(filepath):\n",
    "    with wave.open(filepath, 'rb') as wf:\n",
    "        audio_data = wf.readframes(CHUNK_SIZE)\n",
    "        while audio_data:\n",
    "            audio_array = np.frombuffer(audio_data, dtype=np.int16)\n",
    "            num_samples = int(len(audio_array) * 44100 / 8000)\n",
    "            resampled_audio = resample(audio_array, num_samples)\n",
    "            resampled_bytes = resampled_audio.astype(np.int16).tobytes()\n",
    "            stream.write(resampled_bytes)\n",
    "            audio_data = wf.readframes(CHUNK_SIZE)"
   ],
   "id": "9e291fe5cc783491",
   "outputs": [],
   "execution_count": null
  },
  {
   "metadata": {},
   "cell_type": "code",
   "source": [
    "positive_samples = os.listdir('../samples/positive')\n",
    "negative_samples = os.listdir('../samples/negative')\n",
    "trash_dir = os.listdir('../samples/trash')"
   ],
   "id": "7c9895dc7f7b026f",
   "outputs": [],
   "execution_count": null
  },
  {
   "metadata": {},
   "cell_type": "code",
   "source": [
    "wanna_continue = input(\"Are you sure you want to reverify your sample details [yes/no]: \")\n",
    "if wanna_continue == \"yes\":\n",
    "    for index, sample_fp in enumerate(positive_samples):\n",
    "        play_audio(os.path.join('../samples/positive', sample_fp))\n",
    "        keep_it = input(f\"Keep this audio {index}_{sample_fp} [yes/no]: \")\n",
    "        if keep_it != 'no':\n",
    "            continue\n",
    "        if os.path.exists(os.path.join('../samples/positive', sample_fp)):\n",
    "            shutil.move(os.path.join('../samples/positive', sample_fp), os.path.join('../samples/trash', sample_fp))\n",
    "        else:\n",
    "            print(f'Failed to locate filepath {sample_fp} in positive samples.')\n"
   ],
   "id": "917eedaa9c1ff8c6",
   "outputs": [],
   "execution_count": null
  },
  {
   "metadata": {},
   "cell_type": "code",
   "source": [
    "# onDestroy\n",
    "stream.stop_stream()\n",
    "stream.close()\n",
    "audio.terminate()"
   ],
   "id": "ba0b79d2bd7aae8e",
   "outputs": [],
   "execution_count": null
  }
 ],
 "metadata": {
  "kernelspec": {
   "display_name": "Python 3 (ipykernel)",
   "language": "python",
   "name": "python3"
  },
  "language_info": {
   "codemirror_mode": {
    "name": "ipython",
    "version": 3
   },
   "file_extension": ".py",
   "mimetype": "text/x-python",
   "name": "python",
   "nbconvert_exporter": "python",
   "pygments_lexer": "ipython3",
   "version": "3.11.13"
  }
 },
 "nbformat": 4,
 "nbformat_minor": 5
}
