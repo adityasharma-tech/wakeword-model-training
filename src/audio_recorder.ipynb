{
 "cells": [
  {
   "cell_type": "code",
   "execution_count": null,
   "id": "initial_id",
   "metadata": {
    "collapsed": true
   },
   "outputs": [],
   "source": [
    "import os\n",
    "\n",
    "import pyaudio\n",
    "import wave"
   ]
  },
  {
   "metadata": {},
   "cell_type": "code",
   "outputs": [],
   "execution_count": null,
   "source": "py = pyaudio.PyAudio()",
   "id": "65f25c110e1dfb0b"
  },
  {
   "metadata": {},
   "cell_type": "code",
   "outputs": [],
   "execution_count": null,
   "source": "microphone_index = py.get_default_input_device_info()['index']",
   "id": "f4b02cca260598aa"
  },
  {
   "metadata": {},
   "cell_type": "code",
   "outputs": [],
   "execution_count": null,
   "source": [
    "FORMAT = pyaudio.paInt16\n",
    "SAMPLE_RATE = 16000\n",
    "CHUNK_SIZE = 512\n",
    "CHANNELS = 1\n",
    "\n",
    "DURATION = 1.5"
   ],
   "id": "ab6519ff9b0f0250"
  },
  {
   "metadata": {},
   "cell_type": "code",
   "outputs": [],
   "execution_count": null,
   "source": [
    "def get_last_index():\n",
    "    files = sorted(os.listdir(\"samples\"))\n",
    "    if len(files) <= 0:\n",
    "        return 0\n",
    "    return int(files[-1].split('_')[0])"
   ],
   "id": "4c78418a4f2405c8"
  },
  {
   "metadata": {},
   "cell_type": "code",
   "outputs": [],
   "execution_count": null,
   "source": "get_last_index() # test",
   "id": "edfaa4ac4e8d6869"
  },
  {
   "metadata": {},
   "cell_type": "code",
   "outputs": [],
   "execution_count": null,
   "source": [
    "def record_audio(file_index):\n",
    "    input_stream = py.open(rate=SAMPLE_RATE, channels=CHANNELS, format=FORMAT, input=True, frames_per_buffer=CHUNK_SIZE,\n",
    "                           input_device_index=microphone_index)\n",
    "\n",
    "    print(f\"Recording stated... {file_index}_sample.wav\")\n",
    "    frames = []\n",
    "\n",
    "    for _ in range(0, int(SAMPLE_RATE / CHUNK_SIZE * DURATION)):\n",
    "        data = input_stream.read(CHUNK_SIZE)\n",
    "        frames.append(data)\n",
    "\n",
    "    with wave.open(f\"samples/{file_index}_sample.wav\", \"wb\") as wf:\n",
    "        wf.setnchannels(CHANNELS)\n",
    "        wf.setsampwidth(py.get_sample_size(FORMAT))\n",
    "        wf.setframerate(SAMPLE_RATE)\n",
    "        wf.writeframes(b\"\".join(frames))\n",
    "\n",
    "    input_stream.stop_stream()\n",
    "    input_stream.close()\n",
    "    file_index+=1\n",
    "    #input(\"Continue: \")"
   ],
   "id": "d63a8b1fc434070c"
  },
  {
   "metadata": {},
   "cell_type": "code",
   "outputs": [],
   "execution_count": null,
   "source": [
    "last_index = 0\n",
    "print(f\"starting from last index: {last_index}\")\n",
    "\n",
    "no_of_samples = int(input(\"Enter number of samples: \"))\n",
    "\n",
    "for i in range(last_index, last_index + no_of_samples + 1):\n",
    "    record_audio(i)"
   ],
   "id": "3e95c2934cf4bb53"
  }
 ],
 "metadata": {
  "kernelspec": {
   "display_name": "Python 3",
   "language": "python",
   "name": "python3"
  },
  "language_info": {
   "codemirror_mode": {
    "name": "ipython",
    "version": 2
   },
   "file_extension": ".py",
   "mimetype": "text/x-python",
   "name": "python",
   "nbconvert_exporter": "python",
   "pygments_lexer": "ipython2",
   "version": "2.7.6"
  }
 },
 "nbformat": 4,
 "nbformat_minor": 5
}
