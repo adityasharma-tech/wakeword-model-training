{
 "cells": [
  {
   "cell_type": "code",
   "id": "initial_id",
   "metadata": {
    "collapsed": true,
    "ExecuteTime": {
     "end_time": "2025-09-28T07:59:43.489633Z",
     "start_time": "2025-09-28T07:59:43.483858Z"
    }
   },
   "source": [
    "import os\n",
    "\n",
    "import pyaudio\n",
    "import wave"
   ],
   "outputs": [],
   "execution_count": 61
  },
  {
   "metadata": {
    "ExecuteTime": {
     "end_time": "2025-09-28T07:59:43.518410Z",
     "start_time": "2025-09-28T07:59:43.513349Z"
    }
   },
   "cell_type": "code",
   "source": "py = pyaudio.PyAudio()",
   "id": "65f25c110e1dfb0b",
   "outputs": [],
   "execution_count": 62
  },
  {
   "metadata": {
    "ExecuteTime": {
     "end_time": "2025-09-28T07:59:43.582827Z",
     "start_time": "2025-09-28T07:59:43.576881Z"
    }
   },
   "cell_type": "code",
   "source": [
    "microphone_index = py.get_default_input_device_info()['index']\n",
    "print(py.get_default_input_device_info())"
   ],
   "id": "f4b02cca260598aa",
   "outputs": [
    {
     "name": "stdout",
     "output_type": "stream",
     "text": [
      "{'index': 15, 'structVersion': 2, 'name': 'default', 'hostApi': 0, 'maxInputChannels': 128, 'maxOutputChannels': 128, 'defaultLowInputLatency': 0.021333333333333333, 'defaultLowOutputLatency': 0.021333333333333333, 'defaultHighInputLatency': 0.021333333333333333, 'defaultHighOutputLatency': 0.021333333333333333, 'defaultSampleRate': 48000.0}\n"
     ]
    }
   ],
   "execution_count": 63
  },
  {
   "metadata": {
    "ExecuteTime": {
     "end_time": "2025-09-28T07:59:43.644491Z",
     "start_time": "2025-09-28T07:59:43.638777Z"
    }
   },
   "cell_type": "code",
   "source": [
    "FORMAT = pyaudio.paInt16\n",
    "SAMPLE_RATE = 16000\n",
    "CHUNK_SIZE = 512\n",
    "CHANNELS = 1\n",
    "\n",
    "DURATION = 1.5"
   ],
   "id": "ab6519ff9b0f0250",
   "outputs": [],
   "execution_count": 64
  },
  {
   "metadata": {
    "ExecuteTime": {
     "end_time": "2025-09-28T07:59:43.703059Z",
     "start_time": "2025-09-28T07:59:43.696322Z"
    }
   },
   "cell_type": "code",
   "source": [
    "def get_last_index():\n",
    "    files = sorted(os.listdir(\"../samples\"))\n",
    "    if len(files) <= 0:\n",
    "        return 0\n",
    "    return int(files[-1].split('_')[0])"
   ],
   "id": "4c78418a4f2405c8",
   "outputs": [],
   "execution_count": 65
  },
  {
   "metadata": {
    "ExecuteTime": {
     "end_time": "2025-09-28T07:59:43.767236Z",
     "start_time": "2025-09-28T07:59:43.757906Z"
    }
   },
   "cell_type": "code",
   "source": "get_last_index() # test",
   "id": "edfaa4ac4e8d6869",
   "outputs": [
    {
     "data": {
      "text/plain": [
       "0"
      ]
     },
     "execution_count": 66,
     "metadata": {},
     "output_type": "execute_result"
    }
   ],
   "execution_count": 66
  },
  {
   "metadata": {
    "ExecuteTime": {
     "end_time": "2025-09-28T07:59:43.831631Z",
     "start_time": "2025-09-28T07:59:43.816363Z"
    }
   },
   "cell_type": "code",
   "source": [
    "def record_audio(file_index):\n",
    "    input_stream = py.open(rate=SAMPLE_RATE, channels=CHANNELS, format=FORMAT, input=True, frames_per_buffer=CHUNK_SIZE,\n",
    "                           input_device_index=microphone_index)\n",
    "\n",
    "    print(f\"Recording stated... {file_index}_sample.wav\")\n",
    "    frames = []\n",
    "\n",
    "    for _ in range(0, int(SAMPLE_RATE / CHUNK_SIZE * DURATION)):\n",
    "        data = input_stream.read(CHUNK_SIZE)\n",
    "        frames.append(data)\n",
    "\n",
    "    with wave.open(f\"../samples/{file_index}_sample.wav\", \"wb\") as wf:\n",
    "        wf.setnchannels(CHANNELS)\n",
    "        wf.setsampwidth(py.get_sample_size(FORMAT))\n",
    "        wf.setframerate(SAMPLE_RATE)\n",
    "        wf.writeframes(b\"\".join(frames))\n",
    "\n",
    "    input_stream.stop_stream()\n",
    "    input_stream.close()\n",
    "    file_index+=1\n",
    "    input(\"Continue: \")"
   ],
   "id": "d63a8b1fc434070c",
   "outputs": [],
   "execution_count": 67
  },
  {
   "metadata": {
    "jupyter": {
     "is_executing": true
    },
    "ExecuteTime": {
     "start_time": "2025-09-28T07:59:43.910115Z"
    }
   },
   "cell_type": "code",
   "source": [
    "last_index = 0\n",
    "print(f\"starting from last index: {last_index}\")\n",
    "\n",
    "no_of_samples = int(input(\"Enter number of samples: \"))\n",
    "\n",
    "for i in range(last_index, last_index + no_of_samples + 1):\n",
    "    record_audio(i)"
   ],
   "id": "3e95c2934cf4bb53",
   "outputs": [
    {
     "name": "stdout",
     "output_type": "stream",
     "text": [
      "starting from last index: 0\n"
     ]
    }
   ],
   "execution_count": null
  }
 ],
 "metadata": {
  "kernelspec": {
   "display_name": "Python 3",
   "language": "python",
   "name": "python3"
  },
  "language_info": {
   "codemirror_mode": {
    "name": "ipython",
    "version": 2
   },
   "file_extension": ".py",
   "mimetype": "text/x-python",
   "name": "python",
   "nbconvert_exporter": "python",
   "pygments_lexer": "ipython2",
   "version": "2.7.6"
  }
 },
 "nbformat": 4,
 "nbformat_minor": 5
}
