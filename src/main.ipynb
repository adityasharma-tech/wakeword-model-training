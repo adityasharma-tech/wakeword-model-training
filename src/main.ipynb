{
 "cells": [
  {
   "cell_type": "code",
   "id": "initial_id",
   "metadata": {
    "collapsed": true,
    "ExecuteTime": {
     "end_time": "2025-09-14T09:42:06.997646Z",
     "start_time": "2025-09-14T09:42:06.992743Z"
    }
   },
   "source": [
    "import librosa\n",
    "import numpy as np\n",
    "import os\n"
   ],
   "outputs": [],
   "execution_count": 30
  },
  {
   "metadata": {
    "ExecuteTime": {
     "end_time": "2025-09-14T09:42:07.766704Z",
     "start_time": "2025-09-14T09:42:07.760001Z"
    }
   },
   "cell_type": "code",
   "source": [
    "positive_dataset = os.listdir(os.path.join('..', 'samples', 'positive'))\n",
    "negative_dataset = os.listdir(os.path.join('..', 'samples', 'negative'))"
   ],
   "id": "bacb8d6fb2bb839",
   "outputs": [],
   "execution_count": 31
  },
  {
   "metadata": {
    "ExecuteTime": {
     "end_time": "2025-09-14T09:42:08.684496Z",
     "start_time": "2025-09-14T09:42:08.680573Z"
    }
   },
   "cell_type": "code",
   "source": [
    "SAMPLE_RATE = 16000\n",
    "DURATION = 1.5"
   ],
   "id": "3008d40a58b27d4e",
   "outputs": [],
   "execution_count": 32
  },
  {
   "metadata": {},
   "cell_type": "markdown",
   "source": [
    "---\n",
    "### Test Stated\n"
   ],
   "id": "2ae5c579ed371a38"
  },
  {
   "metadata": {
    "ExecuteTime": {
     "end_time": "2025-09-14T09:42:10.068828Z",
     "start_time": "2025-09-14T09:42:10.062717Z"
    }
   },
   "cell_type": "code",
   "source": [
    "def extract_features(file_path):\n",
    "    y, sr = librosa.load(file_path, sr=8000, duration=1.5)\n",
    "    mfcc = librosa.feature.mfcc(y=y, sr=sr, n_mfcc=40)\n",
    "    return np.mean(mfcc.T, axis=0)"
   ],
   "id": "cf669e60ff1010b9",
   "outputs": [],
   "execution_count": 33
  },
  {
   "metadata": {
    "ExecuteTime": {
     "end_time": "2025-09-14T09:42:11.652511Z",
     "start_time": "2025-09-14T09:42:11.648069Z"
    }
   },
   "cell_type": "code",
   "source": "import pandas as pd",
   "id": "87afeb0a62608191",
   "outputs": [],
   "execution_count": 34
  },
  {
   "metadata": {
    "ExecuteTime": {
     "end_time": "2025-09-14T09:42:12.319747Z",
     "start_time": "2025-09-14T09:42:12.314758Z"
    }
   },
   "cell_type": "code",
   "source": [
    "data = []\n",
    "labels = []"
   ],
   "id": "55cf608b8cb81468",
   "outputs": [],
   "execution_count": 35
  },
  {
   "metadata": {
    "ExecuteTime": {
     "end_time": "2025-09-14T09:42:15.740423Z",
     "start_time": "2025-09-14T09:42:13.257621Z"
    }
   },
   "cell_type": "code",
   "source": [
    "for file in positive_dataset:\n",
    "    features = extract_features(os.path.join('../samples/positive', file))\n",
    "    data.append(features)\n",
    "    labels.append(1)"
   ],
   "id": "680b21e072360bad",
   "outputs": [],
   "execution_count": 36
  },
  {
   "metadata": {
    "ExecuteTime": {
     "end_time": "2025-09-14T09:42:18.828827Z",
     "start_time": "2025-09-14T09:42:15.766315Z"
    }
   },
   "cell_type": "code",
   "source": [
    "for file in negative_dataset:\n",
    "    features = extract_features(os.path.join('../samples/negative', file))\n",
    "    data.append(features)\n",
    "    labels.append(0)"
   ],
   "id": "ddcdad4490b836de",
   "outputs": [],
   "execution_count": 37
  },
  {
   "metadata": {
    "ExecuteTime": {
     "end_time": "2025-09-14T09:42:19.359325Z",
     "start_time": "2025-09-14T09:42:19.351746Z"
    }
   },
   "cell_type": "code",
   "source": [
    "print(np.array(data).shape)\n",
    "print(np.array(labels).shape)\n",
    "\n",
    "data = np.array(data)\n",
    "labels = np.array(labels)\n",
    "\n",
    "# before negative\n",
    "# (377, 40)\n",
    "# (377,)\n",
    "\n",
    "# after negative included\n",
    "# (878, 40)\n",
    "# (878,)"
   ],
   "id": "ba87ad7ffcfbd819",
   "outputs": [
    {
     "name": "stdout",
     "output_type": "stream",
     "text": [
      "(878, 40)\n",
      "(878,)\n"
     ]
    }
   ],
   "execution_count": 38
  },
  {
   "metadata": {
    "ExecuteTime": {
     "end_time": "2025-09-14T09:42:21.572725Z",
     "start_time": "2025-09-14T09:42:21.565558Z"
    }
   },
   "cell_type": "code",
   "source": "df = pd.DataFrame(data)",
   "id": "34da62d3a5303862",
   "outputs": [],
   "execution_count": 39
  },
  {
   "metadata": {
    "ExecuteTime": {
     "end_time": "2025-09-14T09:42:23.035376Z",
     "start_time": "2025-09-14T09:42:23.028597Z"
    }
   },
   "cell_type": "code",
   "source": "df[\"label\"] = labels",
   "id": "487d37754be73632",
   "outputs": [],
   "execution_count": 40
  },
  {
   "metadata": {
    "ExecuteTime": {
     "end_time": "2025-09-14T09:42:24.057963Z",
     "start_time": "2025-09-14T09:42:24.018711Z"
    }
   },
   "cell_type": "code",
   "source": "df",
   "id": "960401b7190891f8",
   "outputs": [
    {
     "data": {
      "text/plain": [
       "              0           1          2          3          4          5  \\\n",
       "0   -182.537399   86.565063 -12.986511  20.405024  -5.364577  12.565320   \n",
       "1   -159.626541   87.873070   8.400023  28.131775  -2.168035   9.445657   \n",
       "2   -167.042191  101.693970 -10.497649  -1.948504  -5.283806   4.409165   \n",
       "3   -209.341476   96.355835  -5.061976  16.887213  -0.408311  10.966382   \n",
       "4   -174.549759   83.628075  -4.715631  11.865753 -10.440622   6.825201   \n",
       "..          ...         ...        ...        ...        ...        ...   \n",
       "873 -197.710709   82.850929   2.380143  19.107935  -4.930069  11.150809   \n",
       "874 -165.151840   84.042381  -0.971782  16.261053 -16.351496   3.403297   \n",
       "875 -193.365524   79.952393  -1.608006  16.269396  -8.011728   7.369267   \n",
       "876  -27.019033   25.496912 -46.278004   6.449645 -24.586557 -10.281548   \n",
       "877 -200.849731   86.484100   2.339827  16.933561  -9.479945  10.368049   \n",
       "\n",
       "             6          7          8         9  ...        31        32  \\\n",
       "0     0.101523   8.087031  -6.353205  6.792905  ...  0.932926 -1.721535   \n",
       "1    -1.105764  12.874825  -0.871865 -0.888309  ...  1.972351 -3.280976   \n",
       "2    -7.433646   6.585741  -1.054236  1.845864  ... -1.615873 -5.865578   \n",
       "3    -5.957483   8.431193   0.311275  6.172767  ...  0.141452 -2.927981   \n",
       "4    -7.256752   8.738505  -9.724129  2.074056  ...  3.619828 -7.543792   \n",
       "..         ...        ...        ...       ...  ...       ...       ...   \n",
       "873  -9.221920   4.654821  -7.401761  5.338705  ...  1.528580 -5.760756   \n",
       "874 -15.364736  -4.109573  -4.476860  2.532765  ...  2.297409 -7.039461   \n",
       "875  -9.285617   0.513074  -8.505024  1.229052  ...  1.103950 -5.091547   \n",
       "876   3.857861   1.259932 -16.495911 -1.857202  ... -0.870397 -2.454733   \n",
       "877  -6.944389   3.553767  -6.461283  5.545249  ...  1.230991 -4.381156   \n",
       "\n",
       "           33        34        35        36        37        38        39  \\\n",
       "0    2.347887 -1.355222  1.082748 -2.732507  0.775575 -5.316260 -0.752545   \n",
       "1    2.519566 -3.622287  0.430134 -2.613431  4.573012 -4.034807  1.668520   \n",
       "2    3.481190  2.684396  9.643991  3.107458  4.412710 -3.521733  0.791641   \n",
       "3    2.124492 -2.427243  5.889200  1.543471  3.881313 -3.530347 -0.820171   \n",
       "4   -0.874020 -3.760430  5.317819 -4.452523  1.397836 -2.804180 -1.068789   \n",
       "..        ...       ...       ...       ...       ...       ...       ...   \n",
       "873  2.065733 -2.725697  3.691555 -3.511689  2.393312 -3.532225  1.028423   \n",
       "874 -0.535730 -4.036747  2.320846 -8.205886  0.518593 -2.576680  0.810072   \n",
       "875  1.997867 -3.906316  2.991428 -3.435692  2.397051 -3.581451  0.245209   \n",
       "876 -0.687203 -1.351474  9.316044 -9.756568  1.589043 -0.424946  5.004022   \n",
       "877  2.263736 -2.377626  3.819186 -3.450722  2.233074 -4.521210  0.632862   \n",
       "\n",
       "     label  \n",
       "0        1  \n",
       "1        1  \n",
       "2        1  \n",
       "3        1  \n",
       "4        1  \n",
       "..     ...  \n",
       "873      0  \n",
       "874      0  \n",
       "875      0  \n",
       "876      0  \n",
       "877      0  \n",
       "\n",
       "[878 rows x 41 columns]"
      ],
      "text/html": [
       "<div>\n",
       "<style scoped>\n",
       "    .dataframe tbody tr th:only-of-type {\n",
       "        vertical-align: middle;\n",
       "    }\n",
       "\n",
       "    .dataframe tbody tr th {\n",
       "        vertical-align: top;\n",
       "    }\n",
       "\n",
       "    .dataframe thead th {\n",
       "        text-align: right;\n",
       "    }\n",
       "</style>\n",
       "<table border=\"1\" class=\"dataframe\">\n",
       "  <thead>\n",
       "    <tr style=\"text-align: right;\">\n",
       "      <th></th>\n",
       "      <th>0</th>\n",
       "      <th>1</th>\n",
       "      <th>2</th>\n",
       "      <th>3</th>\n",
       "      <th>4</th>\n",
       "      <th>5</th>\n",
       "      <th>6</th>\n",
       "      <th>7</th>\n",
       "      <th>8</th>\n",
       "      <th>9</th>\n",
       "      <th>...</th>\n",
       "      <th>31</th>\n",
       "      <th>32</th>\n",
       "      <th>33</th>\n",
       "      <th>34</th>\n",
       "      <th>35</th>\n",
       "      <th>36</th>\n",
       "      <th>37</th>\n",
       "      <th>38</th>\n",
       "      <th>39</th>\n",
       "      <th>label</th>\n",
       "    </tr>\n",
       "  </thead>\n",
       "  <tbody>\n",
       "    <tr>\n",
       "      <th>0</th>\n",
       "      <td>-182.537399</td>\n",
       "      <td>86.565063</td>\n",
       "      <td>-12.986511</td>\n",
       "      <td>20.405024</td>\n",
       "      <td>-5.364577</td>\n",
       "      <td>12.565320</td>\n",
       "      <td>0.101523</td>\n",
       "      <td>8.087031</td>\n",
       "      <td>-6.353205</td>\n",
       "      <td>6.792905</td>\n",
       "      <td>...</td>\n",
       "      <td>0.932926</td>\n",
       "      <td>-1.721535</td>\n",
       "      <td>2.347887</td>\n",
       "      <td>-1.355222</td>\n",
       "      <td>1.082748</td>\n",
       "      <td>-2.732507</td>\n",
       "      <td>0.775575</td>\n",
       "      <td>-5.316260</td>\n",
       "      <td>-0.752545</td>\n",
       "      <td>1</td>\n",
       "    </tr>\n",
       "    <tr>\n",
       "      <th>1</th>\n",
       "      <td>-159.626541</td>\n",
       "      <td>87.873070</td>\n",
       "      <td>8.400023</td>\n",
       "      <td>28.131775</td>\n",
       "      <td>-2.168035</td>\n",
       "      <td>9.445657</td>\n",
       "      <td>-1.105764</td>\n",
       "      <td>12.874825</td>\n",
       "      <td>-0.871865</td>\n",
       "      <td>-0.888309</td>\n",
       "      <td>...</td>\n",
       "      <td>1.972351</td>\n",
       "      <td>-3.280976</td>\n",
       "      <td>2.519566</td>\n",
       "      <td>-3.622287</td>\n",
       "      <td>0.430134</td>\n",
       "      <td>-2.613431</td>\n",
       "      <td>4.573012</td>\n",
       "      <td>-4.034807</td>\n",
       "      <td>1.668520</td>\n",
       "      <td>1</td>\n",
       "    </tr>\n",
       "    <tr>\n",
       "      <th>2</th>\n",
       "      <td>-167.042191</td>\n",
       "      <td>101.693970</td>\n",
       "      <td>-10.497649</td>\n",
       "      <td>-1.948504</td>\n",
       "      <td>-5.283806</td>\n",
       "      <td>4.409165</td>\n",
       "      <td>-7.433646</td>\n",
       "      <td>6.585741</td>\n",
       "      <td>-1.054236</td>\n",
       "      <td>1.845864</td>\n",
       "      <td>...</td>\n",
       "      <td>-1.615873</td>\n",
       "      <td>-5.865578</td>\n",
       "      <td>3.481190</td>\n",
       "      <td>2.684396</td>\n",
       "      <td>9.643991</td>\n",
       "      <td>3.107458</td>\n",
       "      <td>4.412710</td>\n",
       "      <td>-3.521733</td>\n",
       "      <td>0.791641</td>\n",
       "      <td>1</td>\n",
       "    </tr>\n",
       "    <tr>\n",
       "      <th>3</th>\n",
       "      <td>-209.341476</td>\n",
       "      <td>96.355835</td>\n",
       "      <td>-5.061976</td>\n",
       "      <td>16.887213</td>\n",
       "      <td>-0.408311</td>\n",
       "      <td>10.966382</td>\n",
       "      <td>-5.957483</td>\n",
       "      <td>8.431193</td>\n",
       "      <td>0.311275</td>\n",
       "      <td>6.172767</td>\n",
       "      <td>...</td>\n",
       "      <td>0.141452</td>\n",
       "      <td>-2.927981</td>\n",
       "      <td>2.124492</td>\n",
       "      <td>-2.427243</td>\n",
       "      <td>5.889200</td>\n",
       "      <td>1.543471</td>\n",
       "      <td>3.881313</td>\n",
       "      <td>-3.530347</td>\n",
       "      <td>-0.820171</td>\n",
       "      <td>1</td>\n",
       "    </tr>\n",
       "    <tr>\n",
       "      <th>4</th>\n",
       "      <td>-174.549759</td>\n",
       "      <td>83.628075</td>\n",
       "      <td>-4.715631</td>\n",
       "      <td>11.865753</td>\n",
       "      <td>-10.440622</td>\n",
       "      <td>6.825201</td>\n",
       "      <td>-7.256752</td>\n",
       "      <td>8.738505</td>\n",
       "      <td>-9.724129</td>\n",
       "      <td>2.074056</td>\n",
       "      <td>...</td>\n",
       "      <td>3.619828</td>\n",
       "      <td>-7.543792</td>\n",
       "      <td>-0.874020</td>\n",
       "      <td>-3.760430</td>\n",
       "      <td>5.317819</td>\n",
       "      <td>-4.452523</td>\n",
       "      <td>1.397836</td>\n",
       "      <td>-2.804180</td>\n",
       "      <td>-1.068789</td>\n",
       "      <td>1</td>\n",
       "    </tr>\n",
       "    <tr>\n",
       "      <th>...</th>\n",
       "      <td>...</td>\n",
       "      <td>...</td>\n",
       "      <td>...</td>\n",
       "      <td>...</td>\n",
       "      <td>...</td>\n",
       "      <td>...</td>\n",
       "      <td>...</td>\n",
       "      <td>...</td>\n",
       "      <td>...</td>\n",
       "      <td>...</td>\n",
       "      <td>...</td>\n",
       "      <td>...</td>\n",
       "      <td>...</td>\n",
       "      <td>...</td>\n",
       "      <td>...</td>\n",
       "      <td>...</td>\n",
       "      <td>...</td>\n",
       "      <td>...</td>\n",
       "      <td>...</td>\n",
       "      <td>...</td>\n",
       "      <td>...</td>\n",
       "    </tr>\n",
       "    <tr>\n",
       "      <th>873</th>\n",
       "      <td>-197.710709</td>\n",
       "      <td>82.850929</td>\n",
       "      <td>2.380143</td>\n",
       "      <td>19.107935</td>\n",
       "      <td>-4.930069</td>\n",
       "      <td>11.150809</td>\n",
       "      <td>-9.221920</td>\n",
       "      <td>4.654821</td>\n",
       "      <td>-7.401761</td>\n",
       "      <td>5.338705</td>\n",
       "      <td>...</td>\n",
       "      <td>1.528580</td>\n",
       "      <td>-5.760756</td>\n",
       "      <td>2.065733</td>\n",
       "      <td>-2.725697</td>\n",
       "      <td>3.691555</td>\n",
       "      <td>-3.511689</td>\n",
       "      <td>2.393312</td>\n",
       "      <td>-3.532225</td>\n",
       "      <td>1.028423</td>\n",
       "      <td>0</td>\n",
       "    </tr>\n",
       "    <tr>\n",
       "      <th>874</th>\n",
       "      <td>-165.151840</td>\n",
       "      <td>84.042381</td>\n",
       "      <td>-0.971782</td>\n",
       "      <td>16.261053</td>\n",
       "      <td>-16.351496</td>\n",
       "      <td>3.403297</td>\n",
       "      <td>-15.364736</td>\n",
       "      <td>-4.109573</td>\n",
       "      <td>-4.476860</td>\n",
       "      <td>2.532765</td>\n",
       "      <td>...</td>\n",
       "      <td>2.297409</td>\n",
       "      <td>-7.039461</td>\n",
       "      <td>-0.535730</td>\n",
       "      <td>-4.036747</td>\n",
       "      <td>2.320846</td>\n",
       "      <td>-8.205886</td>\n",
       "      <td>0.518593</td>\n",
       "      <td>-2.576680</td>\n",
       "      <td>0.810072</td>\n",
       "      <td>0</td>\n",
       "    </tr>\n",
       "    <tr>\n",
       "      <th>875</th>\n",
       "      <td>-193.365524</td>\n",
       "      <td>79.952393</td>\n",
       "      <td>-1.608006</td>\n",
       "      <td>16.269396</td>\n",
       "      <td>-8.011728</td>\n",
       "      <td>7.369267</td>\n",
       "      <td>-9.285617</td>\n",
       "      <td>0.513074</td>\n",
       "      <td>-8.505024</td>\n",
       "      <td>1.229052</td>\n",
       "      <td>...</td>\n",
       "      <td>1.103950</td>\n",
       "      <td>-5.091547</td>\n",
       "      <td>1.997867</td>\n",
       "      <td>-3.906316</td>\n",
       "      <td>2.991428</td>\n",
       "      <td>-3.435692</td>\n",
       "      <td>2.397051</td>\n",
       "      <td>-3.581451</td>\n",
       "      <td>0.245209</td>\n",
       "      <td>0</td>\n",
       "    </tr>\n",
       "    <tr>\n",
       "      <th>876</th>\n",
       "      <td>-27.019033</td>\n",
       "      <td>25.496912</td>\n",
       "      <td>-46.278004</td>\n",
       "      <td>6.449645</td>\n",
       "      <td>-24.586557</td>\n",
       "      <td>-10.281548</td>\n",
       "      <td>3.857861</td>\n",
       "      <td>1.259932</td>\n",
       "      <td>-16.495911</td>\n",
       "      <td>-1.857202</td>\n",
       "      <td>...</td>\n",
       "      <td>-0.870397</td>\n",
       "      <td>-2.454733</td>\n",
       "      <td>-0.687203</td>\n",
       "      <td>-1.351474</td>\n",
       "      <td>9.316044</td>\n",
       "      <td>-9.756568</td>\n",
       "      <td>1.589043</td>\n",
       "      <td>-0.424946</td>\n",
       "      <td>5.004022</td>\n",
       "      <td>0</td>\n",
       "    </tr>\n",
       "    <tr>\n",
       "      <th>877</th>\n",
       "      <td>-200.849731</td>\n",
       "      <td>86.484100</td>\n",
       "      <td>2.339827</td>\n",
       "      <td>16.933561</td>\n",
       "      <td>-9.479945</td>\n",
       "      <td>10.368049</td>\n",
       "      <td>-6.944389</td>\n",
       "      <td>3.553767</td>\n",
       "      <td>-6.461283</td>\n",
       "      <td>5.545249</td>\n",
       "      <td>...</td>\n",
       "      <td>1.230991</td>\n",
       "      <td>-4.381156</td>\n",
       "      <td>2.263736</td>\n",
       "      <td>-2.377626</td>\n",
       "      <td>3.819186</td>\n",
       "      <td>-3.450722</td>\n",
       "      <td>2.233074</td>\n",
       "      <td>-4.521210</td>\n",
       "      <td>0.632862</td>\n",
       "      <td>0</td>\n",
       "    </tr>\n",
       "  </tbody>\n",
       "</table>\n",
       "<p>878 rows × 41 columns</p>\n",
       "</div>"
      ]
     },
     "execution_count": 41,
     "metadata": {},
     "output_type": "execute_result"
    }
   ],
   "execution_count": 41
  },
  {
   "metadata": {
    "ExecuteTime": {
     "end_time": "2025-09-14T09:42:30.890565Z",
     "start_time": "2025-09-14T09:42:30.885751Z"
    }
   },
   "cell_type": "code",
   "source": "from sklearn.model_selection import train_test_split",
   "id": "e0fc38536ee0b153",
   "outputs": [],
   "execution_count": 42
  },
  {
   "metadata": {
    "ExecuteTime": {
     "end_time": "2025-09-14T09:42:32.422126Z",
     "start_time": "2025-09-14T09:42:32.414564Z"
    }
   },
   "cell_type": "code",
   "source": [
    "X = df.drop(\"label\", axis=1).values\n",
    "y = df[\"label\"].values"
   ],
   "id": "4dd3890af742dce2",
   "outputs": [],
   "execution_count": 43
  },
  {
   "metadata": {
    "ExecuteTime": {
     "end_time": "2025-09-14T09:42:33.662980Z",
     "start_time": "2025-09-14T09:42:33.607451Z"
    }
   },
   "cell_type": "code",
   "source": "df",
   "id": "a598b9cd4831164e",
   "outputs": [
    {
     "data": {
      "text/plain": [
       "              0           1          2          3          4          5  \\\n",
       "0   -182.537399   86.565063 -12.986511  20.405024  -5.364577  12.565320   \n",
       "1   -159.626541   87.873070   8.400023  28.131775  -2.168035   9.445657   \n",
       "2   -167.042191  101.693970 -10.497649  -1.948504  -5.283806   4.409165   \n",
       "3   -209.341476   96.355835  -5.061976  16.887213  -0.408311  10.966382   \n",
       "4   -174.549759   83.628075  -4.715631  11.865753 -10.440622   6.825201   \n",
       "..          ...         ...        ...        ...        ...        ...   \n",
       "873 -197.710709   82.850929   2.380143  19.107935  -4.930069  11.150809   \n",
       "874 -165.151840   84.042381  -0.971782  16.261053 -16.351496   3.403297   \n",
       "875 -193.365524   79.952393  -1.608006  16.269396  -8.011728   7.369267   \n",
       "876  -27.019033   25.496912 -46.278004   6.449645 -24.586557 -10.281548   \n",
       "877 -200.849731   86.484100   2.339827  16.933561  -9.479945  10.368049   \n",
       "\n",
       "             6          7          8         9  ...        31        32  \\\n",
       "0     0.101523   8.087031  -6.353205  6.792905  ...  0.932926 -1.721535   \n",
       "1    -1.105764  12.874825  -0.871865 -0.888309  ...  1.972351 -3.280976   \n",
       "2    -7.433646   6.585741  -1.054236  1.845864  ... -1.615873 -5.865578   \n",
       "3    -5.957483   8.431193   0.311275  6.172767  ...  0.141452 -2.927981   \n",
       "4    -7.256752   8.738505  -9.724129  2.074056  ...  3.619828 -7.543792   \n",
       "..         ...        ...        ...       ...  ...       ...       ...   \n",
       "873  -9.221920   4.654821  -7.401761  5.338705  ...  1.528580 -5.760756   \n",
       "874 -15.364736  -4.109573  -4.476860  2.532765  ...  2.297409 -7.039461   \n",
       "875  -9.285617   0.513074  -8.505024  1.229052  ...  1.103950 -5.091547   \n",
       "876   3.857861   1.259932 -16.495911 -1.857202  ... -0.870397 -2.454733   \n",
       "877  -6.944389   3.553767  -6.461283  5.545249  ...  1.230991 -4.381156   \n",
       "\n",
       "           33        34        35        36        37        38        39  \\\n",
       "0    2.347887 -1.355222  1.082748 -2.732507  0.775575 -5.316260 -0.752545   \n",
       "1    2.519566 -3.622287  0.430134 -2.613431  4.573012 -4.034807  1.668520   \n",
       "2    3.481190  2.684396  9.643991  3.107458  4.412710 -3.521733  0.791641   \n",
       "3    2.124492 -2.427243  5.889200  1.543471  3.881313 -3.530347 -0.820171   \n",
       "4   -0.874020 -3.760430  5.317819 -4.452523  1.397836 -2.804180 -1.068789   \n",
       "..        ...       ...       ...       ...       ...       ...       ...   \n",
       "873  2.065733 -2.725697  3.691555 -3.511689  2.393312 -3.532225  1.028423   \n",
       "874 -0.535730 -4.036747  2.320846 -8.205886  0.518593 -2.576680  0.810072   \n",
       "875  1.997867 -3.906316  2.991428 -3.435692  2.397051 -3.581451  0.245209   \n",
       "876 -0.687203 -1.351474  9.316044 -9.756568  1.589043 -0.424946  5.004022   \n",
       "877  2.263736 -2.377626  3.819186 -3.450722  2.233074 -4.521210  0.632862   \n",
       "\n",
       "     label  \n",
       "0        1  \n",
       "1        1  \n",
       "2        1  \n",
       "3        1  \n",
       "4        1  \n",
       "..     ...  \n",
       "873      0  \n",
       "874      0  \n",
       "875      0  \n",
       "876      0  \n",
       "877      0  \n",
       "\n",
       "[878 rows x 41 columns]"
      ],
      "text/html": [
       "<div>\n",
       "<style scoped>\n",
       "    .dataframe tbody tr th:only-of-type {\n",
       "        vertical-align: middle;\n",
       "    }\n",
       "\n",
       "    .dataframe tbody tr th {\n",
       "        vertical-align: top;\n",
       "    }\n",
       "\n",
       "    .dataframe thead th {\n",
       "        text-align: right;\n",
       "    }\n",
       "</style>\n",
       "<table border=\"1\" class=\"dataframe\">\n",
       "  <thead>\n",
       "    <tr style=\"text-align: right;\">\n",
       "      <th></th>\n",
       "      <th>0</th>\n",
       "      <th>1</th>\n",
       "      <th>2</th>\n",
       "      <th>3</th>\n",
       "      <th>4</th>\n",
       "      <th>5</th>\n",
       "      <th>6</th>\n",
       "      <th>7</th>\n",
       "      <th>8</th>\n",
       "      <th>9</th>\n",
       "      <th>...</th>\n",
       "      <th>31</th>\n",
       "      <th>32</th>\n",
       "      <th>33</th>\n",
       "      <th>34</th>\n",
       "      <th>35</th>\n",
       "      <th>36</th>\n",
       "      <th>37</th>\n",
       "      <th>38</th>\n",
       "      <th>39</th>\n",
       "      <th>label</th>\n",
       "    </tr>\n",
       "  </thead>\n",
       "  <tbody>\n",
       "    <tr>\n",
       "      <th>0</th>\n",
       "      <td>-182.537399</td>\n",
       "      <td>86.565063</td>\n",
       "      <td>-12.986511</td>\n",
       "      <td>20.405024</td>\n",
       "      <td>-5.364577</td>\n",
       "      <td>12.565320</td>\n",
       "      <td>0.101523</td>\n",
       "      <td>8.087031</td>\n",
       "      <td>-6.353205</td>\n",
       "      <td>6.792905</td>\n",
       "      <td>...</td>\n",
       "      <td>0.932926</td>\n",
       "      <td>-1.721535</td>\n",
       "      <td>2.347887</td>\n",
       "      <td>-1.355222</td>\n",
       "      <td>1.082748</td>\n",
       "      <td>-2.732507</td>\n",
       "      <td>0.775575</td>\n",
       "      <td>-5.316260</td>\n",
       "      <td>-0.752545</td>\n",
       "      <td>1</td>\n",
       "    </tr>\n",
       "    <tr>\n",
       "      <th>1</th>\n",
       "      <td>-159.626541</td>\n",
       "      <td>87.873070</td>\n",
       "      <td>8.400023</td>\n",
       "      <td>28.131775</td>\n",
       "      <td>-2.168035</td>\n",
       "      <td>9.445657</td>\n",
       "      <td>-1.105764</td>\n",
       "      <td>12.874825</td>\n",
       "      <td>-0.871865</td>\n",
       "      <td>-0.888309</td>\n",
       "      <td>...</td>\n",
       "      <td>1.972351</td>\n",
       "      <td>-3.280976</td>\n",
       "      <td>2.519566</td>\n",
       "      <td>-3.622287</td>\n",
       "      <td>0.430134</td>\n",
       "      <td>-2.613431</td>\n",
       "      <td>4.573012</td>\n",
       "      <td>-4.034807</td>\n",
       "      <td>1.668520</td>\n",
       "      <td>1</td>\n",
       "    </tr>\n",
       "    <tr>\n",
       "      <th>2</th>\n",
       "      <td>-167.042191</td>\n",
       "      <td>101.693970</td>\n",
       "      <td>-10.497649</td>\n",
       "      <td>-1.948504</td>\n",
       "      <td>-5.283806</td>\n",
       "      <td>4.409165</td>\n",
       "      <td>-7.433646</td>\n",
       "      <td>6.585741</td>\n",
       "      <td>-1.054236</td>\n",
       "      <td>1.845864</td>\n",
       "      <td>...</td>\n",
       "      <td>-1.615873</td>\n",
       "      <td>-5.865578</td>\n",
       "      <td>3.481190</td>\n",
       "      <td>2.684396</td>\n",
       "      <td>9.643991</td>\n",
       "      <td>3.107458</td>\n",
       "      <td>4.412710</td>\n",
       "      <td>-3.521733</td>\n",
       "      <td>0.791641</td>\n",
       "      <td>1</td>\n",
       "    </tr>\n",
       "    <tr>\n",
       "      <th>3</th>\n",
       "      <td>-209.341476</td>\n",
       "      <td>96.355835</td>\n",
       "      <td>-5.061976</td>\n",
       "      <td>16.887213</td>\n",
       "      <td>-0.408311</td>\n",
       "      <td>10.966382</td>\n",
       "      <td>-5.957483</td>\n",
       "      <td>8.431193</td>\n",
       "      <td>0.311275</td>\n",
       "      <td>6.172767</td>\n",
       "      <td>...</td>\n",
       "      <td>0.141452</td>\n",
       "      <td>-2.927981</td>\n",
       "      <td>2.124492</td>\n",
       "      <td>-2.427243</td>\n",
       "      <td>5.889200</td>\n",
       "      <td>1.543471</td>\n",
       "      <td>3.881313</td>\n",
       "      <td>-3.530347</td>\n",
       "      <td>-0.820171</td>\n",
       "      <td>1</td>\n",
       "    </tr>\n",
       "    <tr>\n",
       "      <th>4</th>\n",
       "      <td>-174.549759</td>\n",
       "      <td>83.628075</td>\n",
       "      <td>-4.715631</td>\n",
       "      <td>11.865753</td>\n",
       "      <td>-10.440622</td>\n",
       "      <td>6.825201</td>\n",
       "      <td>-7.256752</td>\n",
       "      <td>8.738505</td>\n",
       "      <td>-9.724129</td>\n",
       "      <td>2.074056</td>\n",
       "      <td>...</td>\n",
       "      <td>3.619828</td>\n",
       "      <td>-7.543792</td>\n",
       "      <td>-0.874020</td>\n",
       "      <td>-3.760430</td>\n",
       "      <td>5.317819</td>\n",
       "      <td>-4.452523</td>\n",
       "      <td>1.397836</td>\n",
       "      <td>-2.804180</td>\n",
       "      <td>-1.068789</td>\n",
       "      <td>1</td>\n",
       "    </tr>\n",
       "    <tr>\n",
       "      <th>...</th>\n",
       "      <td>...</td>\n",
       "      <td>...</td>\n",
       "      <td>...</td>\n",
       "      <td>...</td>\n",
       "      <td>...</td>\n",
       "      <td>...</td>\n",
       "      <td>...</td>\n",
       "      <td>...</td>\n",
       "      <td>...</td>\n",
       "      <td>...</td>\n",
       "      <td>...</td>\n",
       "      <td>...</td>\n",
       "      <td>...</td>\n",
       "      <td>...</td>\n",
       "      <td>...</td>\n",
       "      <td>...</td>\n",
       "      <td>...</td>\n",
       "      <td>...</td>\n",
       "      <td>...</td>\n",
       "      <td>...</td>\n",
       "      <td>...</td>\n",
       "    </tr>\n",
       "    <tr>\n",
       "      <th>873</th>\n",
       "      <td>-197.710709</td>\n",
       "      <td>82.850929</td>\n",
       "      <td>2.380143</td>\n",
       "      <td>19.107935</td>\n",
       "      <td>-4.930069</td>\n",
       "      <td>11.150809</td>\n",
       "      <td>-9.221920</td>\n",
       "      <td>4.654821</td>\n",
       "      <td>-7.401761</td>\n",
       "      <td>5.338705</td>\n",
       "      <td>...</td>\n",
       "      <td>1.528580</td>\n",
       "      <td>-5.760756</td>\n",
       "      <td>2.065733</td>\n",
       "      <td>-2.725697</td>\n",
       "      <td>3.691555</td>\n",
       "      <td>-3.511689</td>\n",
       "      <td>2.393312</td>\n",
       "      <td>-3.532225</td>\n",
       "      <td>1.028423</td>\n",
       "      <td>0</td>\n",
       "    </tr>\n",
       "    <tr>\n",
       "      <th>874</th>\n",
       "      <td>-165.151840</td>\n",
       "      <td>84.042381</td>\n",
       "      <td>-0.971782</td>\n",
       "      <td>16.261053</td>\n",
       "      <td>-16.351496</td>\n",
       "      <td>3.403297</td>\n",
       "      <td>-15.364736</td>\n",
       "      <td>-4.109573</td>\n",
       "      <td>-4.476860</td>\n",
       "      <td>2.532765</td>\n",
       "      <td>...</td>\n",
       "      <td>2.297409</td>\n",
       "      <td>-7.039461</td>\n",
       "      <td>-0.535730</td>\n",
       "      <td>-4.036747</td>\n",
       "      <td>2.320846</td>\n",
       "      <td>-8.205886</td>\n",
       "      <td>0.518593</td>\n",
       "      <td>-2.576680</td>\n",
       "      <td>0.810072</td>\n",
       "      <td>0</td>\n",
       "    </tr>\n",
       "    <tr>\n",
       "      <th>875</th>\n",
       "      <td>-193.365524</td>\n",
       "      <td>79.952393</td>\n",
       "      <td>-1.608006</td>\n",
       "      <td>16.269396</td>\n",
       "      <td>-8.011728</td>\n",
       "      <td>7.369267</td>\n",
       "      <td>-9.285617</td>\n",
       "      <td>0.513074</td>\n",
       "      <td>-8.505024</td>\n",
       "      <td>1.229052</td>\n",
       "      <td>...</td>\n",
       "      <td>1.103950</td>\n",
       "      <td>-5.091547</td>\n",
       "      <td>1.997867</td>\n",
       "      <td>-3.906316</td>\n",
       "      <td>2.991428</td>\n",
       "      <td>-3.435692</td>\n",
       "      <td>2.397051</td>\n",
       "      <td>-3.581451</td>\n",
       "      <td>0.245209</td>\n",
       "      <td>0</td>\n",
       "    </tr>\n",
       "    <tr>\n",
       "      <th>876</th>\n",
       "      <td>-27.019033</td>\n",
       "      <td>25.496912</td>\n",
       "      <td>-46.278004</td>\n",
       "      <td>6.449645</td>\n",
       "      <td>-24.586557</td>\n",
       "      <td>-10.281548</td>\n",
       "      <td>3.857861</td>\n",
       "      <td>1.259932</td>\n",
       "      <td>-16.495911</td>\n",
       "      <td>-1.857202</td>\n",
       "      <td>...</td>\n",
       "      <td>-0.870397</td>\n",
       "      <td>-2.454733</td>\n",
       "      <td>-0.687203</td>\n",
       "      <td>-1.351474</td>\n",
       "      <td>9.316044</td>\n",
       "      <td>-9.756568</td>\n",
       "      <td>1.589043</td>\n",
       "      <td>-0.424946</td>\n",
       "      <td>5.004022</td>\n",
       "      <td>0</td>\n",
       "    </tr>\n",
       "    <tr>\n",
       "      <th>877</th>\n",
       "      <td>-200.849731</td>\n",
       "      <td>86.484100</td>\n",
       "      <td>2.339827</td>\n",
       "      <td>16.933561</td>\n",
       "      <td>-9.479945</td>\n",
       "      <td>10.368049</td>\n",
       "      <td>-6.944389</td>\n",
       "      <td>3.553767</td>\n",
       "      <td>-6.461283</td>\n",
       "      <td>5.545249</td>\n",
       "      <td>...</td>\n",
       "      <td>1.230991</td>\n",
       "      <td>-4.381156</td>\n",
       "      <td>2.263736</td>\n",
       "      <td>-2.377626</td>\n",
       "      <td>3.819186</td>\n",
       "      <td>-3.450722</td>\n",
       "      <td>2.233074</td>\n",
       "      <td>-4.521210</td>\n",
       "      <td>0.632862</td>\n",
       "      <td>0</td>\n",
       "    </tr>\n",
       "  </tbody>\n",
       "</table>\n",
       "<p>878 rows × 41 columns</p>\n",
       "</div>"
      ]
     },
     "execution_count": 44,
     "metadata": {},
     "output_type": "execute_result"
    }
   ],
   "execution_count": 44
  },
  {
   "metadata": {
    "ExecuteTime": {
     "end_time": "2025-09-14T09:42:42.157118Z",
     "start_time": "2025-09-14T09:42:42.149149Z"
    }
   },
   "cell_type": "code",
   "source": "X_train, X_test, y_train, y_test = train_test_split(X, y, test_size=0.2, stratify=y)",
   "id": "560bf1d51a7274c",
   "outputs": [],
   "execution_count": 45
  },
  {
   "metadata": {
    "ExecuteTime": {
     "end_time": "2025-09-14T09:43:55.117262Z",
     "start_time": "2025-09-14T09:43:55.110709Z"
    }
   },
   "cell_type": "code",
   "source": [
    "X_train_reshaped = np.reshape(X_train, (X_train.shape[0], X_train.shape[1], 1))\n",
    "X_test_reshaped = np.reshape(X_test, (X_test.shape[0], X_test.shape[1], 1))"
   ],
   "id": "254439ec5f33c5ed",
   "outputs": [],
   "execution_count": 49
  },
  {
   "metadata": {
    "ExecuteTime": {
     "end_time": "2025-09-14T09:44:07.139880Z",
     "start_time": "2025-09-14T09:44:07.134727Z"
    }
   },
   "cell_type": "code",
   "source": "from tensorflow.keras import layers, models",
   "id": "18f305b10ecdd69a",
   "outputs": [],
   "execution_count": 50
  },
  {
   "metadata": {
    "ExecuteTime": {
     "end_time": "2025-09-14T09:48:13.748144Z",
     "start_time": "2025-09-14T09:48:13.657336Z"
    }
   },
   "cell_type": "code",
   "source": [
    "model = models.Sequential([\n",
    "    layers.Conv1D(32, 3, activation='relu', input_shape=(40, 1)),\n",
    "    layers.GRU(32),\n",
    "    layers.Dropout(0.2),\n",
    "    layers.Dense(1, activation='sigmoid'),\n",
    "])\n",
    "\n",
    "model.summary()"
   ],
   "id": "560640b955aee858",
   "outputs": [
    {
     "name": "stderr",
     "output_type": "stream",
     "text": [
      "/home/friday/miniconda3/envs/wakeword/lib/python3.11/site-packages/keras/src/layers/convolutional/base_conv.py:113: UserWarning: Do not pass an `input_shape`/`input_dim` argument to a layer. When using Sequential models, prefer using an `Input(shape)` object as the first layer in the model instead.\n",
      "  super().__init__(activity_regularizer=activity_regularizer, **kwargs)\n"
     ]
    },
    {
     "data": {
      "text/plain": [
       "\u001B[1mModel: \"sequential_4\"\u001B[0m\n"
      ],
      "text/html": [
       "<pre style=\"white-space:pre;overflow-x:auto;line-height:normal;font-family:Menlo,'DejaVu Sans Mono',consolas,'Courier New',monospace\"><span style=\"font-weight: bold\">Model: \"sequential_4\"</span>\n",
       "</pre>\n"
      ]
     },
     "metadata": {},
     "output_type": "display_data",
     "jetTransient": {
      "display_id": null
     }
    },
    {
     "data": {
      "text/plain": [
       "┏━━━━━━━━━━━━━━━━━━━━━━━━━━━━━━━━━┳━━━━━━━━━━━━━━━━━━━━━━━━┳━━━━━━━━━━━━━━━┓\n",
       "┃\u001B[1m \u001B[0m\u001B[1mLayer (type)                   \u001B[0m\u001B[1m \u001B[0m┃\u001B[1m \u001B[0m\u001B[1mOutput Shape          \u001B[0m\u001B[1m \u001B[0m┃\u001B[1m \u001B[0m\u001B[1m      Param #\u001B[0m\u001B[1m \u001B[0m┃\n",
       "┡━━━━━━━━━━━━━━━━━━━━━━━━━━━━━━━━━╇━━━━━━━━━━━━━━━━━━━━━━━━╇━━━━━━━━━━━━━━━┩\n",
       "│ conv1d_3 (\u001B[38;5;33mConv1D\u001B[0m)               │ (\u001B[38;5;45mNone\u001B[0m, \u001B[38;5;34m38\u001B[0m, \u001B[38;5;34m32\u001B[0m)         │           \u001B[38;5;34m128\u001B[0m │\n",
       "├─────────────────────────────────┼────────────────────────┼───────────────┤\n",
       "│ gru_4 (\u001B[38;5;33mGRU\u001B[0m)                     │ (\u001B[38;5;45mNone\u001B[0m, \u001B[38;5;34m32\u001B[0m)             │         \u001B[38;5;34m6,336\u001B[0m │\n",
       "├─────────────────────────────────┼────────────────────────┼───────────────┤\n",
       "│ dense_4 (\u001B[38;5;33mDense\u001B[0m)                 │ (\u001B[38;5;45mNone\u001B[0m, \u001B[38;5;34m1\u001B[0m)              │            \u001B[38;5;34m33\u001B[0m │\n",
       "└─────────────────────────────────┴────────────────────────┴───────────────┘\n"
      ],
      "text/html": [
       "<pre style=\"white-space:pre;overflow-x:auto;line-height:normal;font-family:Menlo,'DejaVu Sans Mono',consolas,'Courier New',monospace\">┏━━━━━━━━━━━━━━━━━━━━━━━━━━━━━━━━━┳━━━━━━━━━━━━━━━━━━━━━━━━┳━━━━━━━━━━━━━━━┓\n",
       "┃<span style=\"font-weight: bold\"> Layer (type)                    </span>┃<span style=\"font-weight: bold\"> Output Shape           </span>┃<span style=\"font-weight: bold\">       Param # </span>┃\n",
       "┡━━━━━━━━━━━━━━━━━━━━━━━━━━━━━━━━━╇━━━━━━━━━━━━━━━━━━━━━━━━╇━━━━━━━━━━━━━━━┩\n",
       "│ conv1d_3 (<span style=\"color: #0087ff; text-decoration-color: #0087ff\">Conv1D</span>)               │ (<span style=\"color: #00d7ff; text-decoration-color: #00d7ff\">None</span>, <span style=\"color: #00af00; text-decoration-color: #00af00\">38</span>, <span style=\"color: #00af00; text-decoration-color: #00af00\">32</span>)         │           <span style=\"color: #00af00; text-decoration-color: #00af00\">128</span> │\n",
       "├─────────────────────────────────┼────────────────────────┼───────────────┤\n",
       "│ gru_4 (<span style=\"color: #0087ff; text-decoration-color: #0087ff\">GRU</span>)                     │ (<span style=\"color: #00d7ff; text-decoration-color: #00d7ff\">None</span>, <span style=\"color: #00af00; text-decoration-color: #00af00\">32</span>)             │         <span style=\"color: #00af00; text-decoration-color: #00af00\">6,336</span> │\n",
       "├─────────────────────────────────┼────────────────────────┼───────────────┤\n",
       "│ dense_4 (<span style=\"color: #0087ff; text-decoration-color: #0087ff\">Dense</span>)                 │ (<span style=\"color: #00d7ff; text-decoration-color: #00d7ff\">None</span>, <span style=\"color: #00af00; text-decoration-color: #00af00\">1</span>)              │            <span style=\"color: #00af00; text-decoration-color: #00af00\">33</span> │\n",
       "└─────────────────────────────────┴────────────────────────┴───────────────┘\n",
       "</pre>\n"
      ]
     },
     "metadata": {},
     "output_type": "display_data",
     "jetTransient": {
      "display_id": null
     }
    },
    {
     "data": {
      "text/plain": [
       "\u001B[1m Total params: \u001B[0m\u001B[38;5;34m6,497\u001B[0m (25.38 KB)\n"
      ],
      "text/html": [
       "<pre style=\"white-space:pre;overflow-x:auto;line-height:normal;font-family:Menlo,'DejaVu Sans Mono',consolas,'Courier New',monospace\"><span style=\"font-weight: bold\"> Total params: </span><span style=\"color: #00af00; text-decoration-color: #00af00\">6,497</span> (25.38 KB)\n",
       "</pre>\n"
      ]
     },
     "metadata": {},
     "output_type": "display_data",
     "jetTransient": {
      "display_id": null
     }
    },
    {
     "data": {
      "text/plain": [
       "\u001B[1m Trainable params: \u001B[0m\u001B[38;5;34m6,497\u001B[0m (25.38 KB)\n"
      ],
      "text/html": [
       "<pre style=\"white-space:pre;overflow-x:auto;line-height:normal;font-family:Menlo,'DejaVu Sans Mono',consolas,'Courier New',monospace\"><span style=\"font-weight: bold\"> Trainable params: </span><span style=\"color: #00af00; text-decoration-color: #00af00\">6,497</span> (25.38 KB)\n",
       "</pre>\n"
      ]
     },
     "metadata": {},
     "output_type": "display_data",
     "jetTransient": {
      "display_id": null
     }
    },
    {
     "data": {
      "text/plain": [
       "\u001B[1m Non-trainable params: \u001B[0m\u001B[38;5;34m0\u001B[0m (0.00 B)\n"
      ],
      "text/html": [
       "<pre style=\"white-space:pre;overflow-x:auto;line-height:normal;font-family:Menlo,'DejaVu Sans Mono',consolas,'Courier New',monospace\"><span style=\"font-weight: bold\"> Non-trainable params: </span><span style=\"color: #00af00; text-decoration-color: #00af00\">0</span> (0.00 B)\n",
       "</pre>\n"
      ]
     },
     "metadata": {},
     "output_type": "display_data",
     "jetTransient": {
      "display_id": null
     }
    }
   ],
   "execution_count": 57
  },
  {
   "metadata": {
    "ExecuteTime": {
     "end_time": "2025-09-14T09:48:17.468487Z",
     "start_time": "2025-09-14T09:48:17.454965Z"
    }
   },
   "cell_type": "code",
   "source": [
    "model.compile(optimizer='adam',\n",
    "              loss='binary_crossentropy',\n",
    "              metrics=['accuracy'])"
   ],
   "id": "435fc94241caa75e",
   "outputs": [],
   "execution_count": 58
  },
  {
   "metadata": {
    "ExecuteTime": {
     "end_time": "2025-09-14T10:01:14.344534Z",
     "start_time": "2025-09-14T10:00:38.875480Z"
    }
   },
   "cell_type": "code",
   "source": [
    "history = model.fit(\n",
    "    X_train_reshaped, y_train,\n",
    "    epochs=60,\n",
    "    batch_size=32,\n",
    "    validation_data=(X_test, y_test)\n",
    ")"
   ],
   "id": "8bf858db4010e505",
   "outputs": [
    {
     "name": "stdout",
     "output_type": "stream",
     "text": [
      "Epoch 1/60\n",
      "\u001B[1m22/22\u001B[0m \u001B[32m━━━━━━━━━━━━━━━━━━━━\u001B[0m\u001B[37m\u001B[0m \u001B[1m1s\u001B[0m 28ms/step - accuracy: 0.9729 - loss: 0.0723 - val_accuracy: 0.9375 - val_loss: 0.1732\n",
      "Epoch 2/60\n",
      "\u001B[1m22/22\u001B[0m \u001B[32m━━━━━━━━━━━━━━━━━━━━\u001B[0m\u001B[37m\u001B[0m \u001B[1m1s\u001B[0m 27ms/step - accuracy: 0.9801 - loss: 0.0695 - val_accuracy: 0.9432 - val_loss: 0.2186\n",
      "Epoch 3/60\n",
      "\u001B[1m22/22\u001B[0m \u001B[32m━━━━━━━━━━━━━━━━━━━━\u001B[0m\u001B[37m\u001B[0m \u001B[1m1s\u001B[0m 30ms/step - accuracy: 0.9801 - loss: 0.0685 - val_accuracy: 0.9318 - val_loss: 0.1655\n",
      "Epoch 4/60\n",
      "\u001B[1m22/22\u001B[0m \u001B[32m━━━━━━━━━━━━━━━━━━━━\u001B[0m\u001B[37m\u001B[0m \u001B[1m1s\u001B[0m 29ms/step - accuracy: 0.9701 - loss: 0.0883 - val_accuracy: 0.9091 - val_loss: 0.2777\n",
      "Epoch 5/60\n",
      "\u001B[1m22/22\u001B[0m \u001B[32m━━━━━━━━━━━━━━━━━━━━\u001B[0m\u001B[37m\u001B[0m \u001B[1m1s\u001B[0m 30ms/step - accuracy: 0.9644 - loss: 0.1063 - val_accuracy: 0.9432 - val_loss: 0.1727\n",
      "Epoch 6/60\n",
      "\u001B[1m22/22\u001B[0m \u001B[32m━━━━━━━━━━━━━━━━━━━━\u001B[0m\u001B[37m\u001B[0m \u001B[1m1s\u001B[0m 28ms/step - accuracy: 0.9672 - loss: 0.0856 - val_accuracy: 0.9148 - val_loss: 0.3113\n",
      "Epoch 7/60\n",
      "\u001B[1m22/22\u001B[0m \u001B[32m━━━━━━━━━━━━━━━━━━━━\u001B[0m\u001B[37m\u001B[0m \u001B[1m1s\u001B[0m 27ms/step - accuracy: 0.9744 - loss: 0.0756 - val_accuracy: 0.9545 - val_loss: 0.1773\n",
      "Epoch 8/60\n",
      "\u001B[1m22/22\u001B[0m \u001B[32m━━━━━━━━━━━━━━━━━━━━\u001B[0m\u001B[37m\u001B[0m \u001B[1m1s\u001B[0m 28ms/step - accuracy: 0.9843 - loss: 0.0622 - val_accuracy: 0.9261 - val_loss: 0.2049\n",
      "Epoch 9/60\n",
      "\u001B[1m22/22\u001B[0m \u001B[32m━━━━━━━━━━━━━━━━━━━━\u001B[0m\u001B[37m\u001B[0m \u001B[1m1s\u001B[0m 30ms/step - accuracy: 0.9900 - loss: 0.0479 - val_accuracy: 0.9375 - val_loss: 0.2107\n",
      "Epoch 10/60\n",
      "\u001B[1m22/22\u001B[0m \u001B[32m━━━━━━━━━━━━━━━━━━━━\u001B[0m\u001B[37m\u001B[0m \u001B[1m1s\u001B[0m 27ms/step - accuracy: 0.9815 - loss: 0.0647 - val_accuracy: 0.9489 - val_loss: 0.1938\n",
      "Epoch 11/60\n",
      "\u001B[1m22/22\u001B[0m \u001B[32m━━━━━━━━━━━━━━━━━━━━\u001B[0m\u001B[37m\u001B[0m \u001B[1m1s\u001B[0m 28ms/step - accuracy: 0.9815 - loss: 0.0689 - val_accuracy: 0.9261 - val_loss: 0.2252\n",
      "Epoch 12/60\n",
      "\u001B[1m22/22\u001B[0m \u001B[32m━━━━━━━━━━━━━━━━━━━━\u001B[0m\u001B[37m\u001B[0m \u001B[1m1s\u001B[0m 29ms/step - accuracy: 0.9829 - loss: 0.0490 - val_accuracy: 0.9261 - val_loss: 0.2010\n",
      "Epoch 13/60\n",
      "\u001B[1m22/22\u001B[0m \u001B[32m━━━━━━━━━━━━━━━━━━━━\u001B[0m\u001B[37m\u001B[0m \u001B[1m1s\u001B[0m 27ms/step - accuracy: 0.9872 - loss: 0.0425 - val_accuracy: 0.9375 - val_loss: 0.2122\n",
      "Epoch 14/60\n",
      "\u001B[1m22/22\u001B[0m \u001B[32m━━━━━━━━━━━━━━━━━━━━\u001B[0m\u001B[37m\u001B[0m \u001B[1m1s\u001B[0m 25ms/step - accuracy: 0.9858 - loss: 0.0441 - val_accuracy: 0.9318 - val_loss: 0.1837\n",
      "Epoch 15/60\n",
      "\u001B[1m22/22\u001B[0m \u001B[32m━━━━━━━━━━━━━━━━━━━━\u001B[0m\u001B[37m\u001B[0m \u001B[1m1s\u001B[0m 25ms/step - accuracy: 0.9886 - loss: 0.0431 - val_accuracy: 0.9205 - val_loss: 0.2005\n",
      "Epoch 16/60\n",
      "\u001B[1m22/22\u001B[0m \u001B[32m━━━━━━━━━━━━━━━━━━━━\u001B[0m\u001B[37m\u001B[0m \u001B[1m1s\u001B[0m 25ms/step - accuracy: 0.9886 - loss: 0.0484 - val_accuracy: 0.9261 - val_loss: 0.1990\n",
      "Epoch 17/60\n",
      "\u001B[1m22/22\u001B[0m \u001B[32m━━━━━━━━━━━━━━━━━━━━\u001B[0m\u001B[37m\u001B[0m \u001B[1m1s\u001B[0m 24ms/step - accuracy: 0.9858 - loss: 0.0433 - val_accuracy: 0.9205 - val_loss: 0.2421\n",
      "Epoch 18/60\n",
      "\u001B[1m22/22\u001B[0m \u001B[32m━━━━━━━━━━━━━━━━━━━━\u001B[0m\u001B[37m\u001B[0m \u001B[1m1s\u001B[0m 25ms/step - accuracy: 0.9915 - loss: 0.0353 - val_accuracy: 0.9318 - val_loss: 0.1710\n",
      "Epoch 19/60\n",
      "\u001B[1m22/22\u001B[0m \u001B[32m━━━━━━━━━━━━━━━━━━━━\u001B[0m\u001B[37m\u001B[0m \u001B[1m1s\u001B[0m 26ms/step - accuracy: 0.9929 - loss: 0.0346 - val_accuracy: 0.9261 - val_loss: 0.1849\n",
      "Epoch 20/60\n",
      "\u001B[1m22/22\u001B[0m \u001B[32m━━━━━━━━━━━━━━━━━━━━\u001B[0m\u001B[37m\u001B[0m \u001B[1m1s\u001B[0m 23ms/step - accuracy: 0.9972 - loss: 0.0288 - val_accuracy: 0.9432 - val_loss: 0.2279\n",
      "Epoch 21/60\n",
      "\u001B[1m22/22\u001B[0m \u001B[32m━━━━━━━━━━━━━━━━━━━━\u001B[0m\u001B[37m\u001B[0m \u001B[1m1s\u001B[0m 27ms/step - accuracy: 0.9900 - loss: 0.0409 - val_accuracy: 0.9318 - val_loss: 0.1804\n",
      "Epoch 22/60\n",
      "\u001B[1m22/22\u001B[0m \u001B[32m━━━━━━━━━━━━━━━━━━━━\u001B[0m\u001B[37m\u001B[0m \u001B[1m1s\u001B[0m 25ms/step - accuracy: 0.9929 - loss: 0.0274 - val_accuracy: 0.9432 - val_loss: 0.1997\n",
      "Epoch 23/60\n",
      "\u001B[1m22/22\u001B[0m \u001B[32m━━━━━━━━━━━━━━━━━━━━\u001B[0m\u001B[37m\u001B[0m \u001B[1m1s\u001B[0m 23ms/step - accuracy: 0.9972 - loss: 0.0222 - val_accuracy: 0.9318 - val_loss: 0.2385\n",
      "Epoch 24/60\n",
      "\u001B[1m22/22\u001B[0m \u001B[32m━━━━━━━━━━━━━━━━━━━━\u001B[0m\u001B[37m\u001B[0m \u001B[1m1s\u001B[0m 23ms/step - accuracy: 0.9843 - loss: 0.0395 - val_accuracy: 0.9091 - val_loss: 0.3140\n",
      "Epoch 25/60\n",
      "\u001B[1m22/22\u001B[0m \u001B[32m━━━━━━━━━━━━━━━━━━━━\u001B[0m\u001B[37m\u001B[0m \u001B[1m1s\u001B[0m 24ms/step - accuracy: 0.9872 - loss: 0.0380 - val_accuracy: 0.9375 - val_loss: 0.2329\n",
      "Epoch 26/60\n",
      "\u001B[1m22/22\u001B[0m \u001B[32m━━━━━━━━━━━━━━━━━━━━\u001B[0m\u001B[37m\u001B[0m \u001B[1m1s\u001B[0m 24ms/step - accuracy: 0.9929 - loss: 0.0224 - val_accuracy: 0.9432 - val_loss: 0.2077\n",
      "Epoch 27/60\n",
      "\u001B[1m22/22\u001B[0m \u001B[32m━━━━━━━━━━━━━━━━━━━━\u001B[0m\u001B[37m\u001B[0m \u001B[1m1s\u001B[0m 23ms/step - accuracy: 0.9943 - loss: 0.0214 - val_accuracy: 0.9318 - val_loss: 0.2669\n",
      "Epoch 28/60\n",
      "\u001B[1m22/22\u001B[0m \u001B[32m━━━━━━━━━━━━━━━━━━━━\u001B[0m\u001B[37m\u001B[0m \u001B[1m1s\u001B[0m 23ms/step - accuracy: 0.9900 - loss: 0.0303 - val_accuracy: 0.9489 - val_loss: 0.2328\n",
      "Epoch 29/60\n",
      "\u001B[1m22/22\u001B[0m \u001B[32m━━━━━━━━━━━━━━━━━━━━\u001B[0m\u001B[37m\u001B[0m \u001B[1m1s\u001B[0m 23ms/step - accuracy: 0.9744 - loss: 0.0647 - val_accuracy: 0.9148 - val_loss: 0.2892\n",
      "Epoch 30/60\n",
      "\u001B[1m22/22\u001B[0m \u001B[32m━━━━━━━━━━━━━━━━━━━━\u001B[0m\u001B[37m\u001B[0m \u001B[1m1s\u001B[0m 23ms/step - accuracy: 0.9758 - loss: 0.0791 - val_accuracy: 0.9261 - val_loss: 0.2489\n",
      "Epoch 31/60\n",
      "\u001B[1m22/22\u001B[0m \u001B[32m━━━━━━━━━━━━━━━━━━━━\u001B[0m\u001B[37m\u001B[0m \u001B[1m1s\u001B[0m 23ms/step - accuracy: 0.9829 - loss: 0.0482 - val_accuracy: 0.9318 - val_loss: 0.2089\n",
      "Epoch 32/60\n",
      "\u001B[1m22/22\u001B[0m \u001B[32m━━━━━━━━━━━━━━━━━━━━\u001B[0m\u001B[37m\u001B[0m \u001B[1m1s\u001B[0m 29ms/step - accuracy: 0.9858 - loss: 0.0358 - val_accuracy: 0.9489 - val_loss: 0.1964\n",
      "Epoch 33/60\n",
      "\u001B[1m22/22\u001B[0m \u001B[32m━━━━━━━━━━━━━━━━━━━━\u001B[0m\u001B[37m\u001B[0m \u001B[1m1s\u001B[0m 30ms/step - accuracy: 0.9957 - loss: 0.0184 - val_accuracy: 0.9318 - val_loss: 0.2432\n",
      "Epoch 34/60\n",
      "\u001B[1m22/22\u001B[0m \u001B[32m━━━━━━━━━━━━━━━━━━━━\u001B[0m\u001B[37m\u001B[0m \u001B[1m1s\u001B[0m 28ms/step - accuracy: 1.0000 - loss: 0.0118 - val_accuracy: 0.9205 - val_loss: 0.2693\n",
      "Epoch 35/60\n",
      "\u001B[1m22/22\u001B[0m \u001B[32m━━━━━━━━━━━━━━━━━━━━\u001B[0m\u001B[37m\u001B[0m \u001B[1m1s\u001B[0m 29ms/step - accuracy: 0.9957 - loss: 0.0141 - val_accuracy: 0.9261 - val_loss: 0.2979\n",
      "Epoch 36/60\n",
      "\u001B[1m22/22\u001B[0m \u001B[32m━━━━━━━━━━━━━━━━━━━━\u001B[0m\u001B[37m\u001B[0m \u001B[1m1s\u001B[0m 27ms/step - accuracy: 1.0000 - loss: 0.0090 - val_accuracy: 0.9205 - val_loss: 0.2234\n",
      "Epoch 37/60\n",
      "\u001B[1m22/22\u001B[0m \u001B[32m━━━━━━━━━━━━━━━━━━━━\u001B[0m\u001B[37m\u001B[0m \u001B[1m1s\u001B[0m 26ms/step - accuracy: 1.0000 - loss: 0.0082 - val_accuracy: 0.9375 - val_loss: 0.2698\n",
      "Epoch 38/60\n",
      "\u001B[1m22/22\u001B[0m \u001B[32m━━━━━━━━━━━━━━━━━━━━\u001B[0m\u001B[37m\u001B[0m \u001B[1m1s\u001B[0m 25ms/step - accuracy: 0.9986 - loss: 0.0078 - val_accuracy: 0.9261 - val_loss: 0.2378\n",
      "Epoch 39/60\n",
      "\u001B[1m22/22\u001B[0m \u001B[32m━━━━━━━━━━━━━━━━━━━━\u001B[0m\u001B[37m\u001B[0m \u001B[1m1s\u001B[0m 28ms/step - accuracy: 1.0000 - loss: 0.0063 - val_accuracy: 0.9318 - val_loss: 0.2572\n",
      "Epoch 40/60\n",
      "\u001B[1m22/22\u001B[0m \u001B[32m━━━━━━━━━━━━━━━━━━━━\u001B[0m\u001B[37m\u001B[0m \u001B[1m1s\u001B[0m 22ms/step - accuracy: 1.0000 - loss: 0.0046 - val_accuracy: 0.9318 - val_loss: 0.2687\n",
      "Epoch 41/60\n",
      "\u001B[1m22/22\u001B[0m \u001B[32m━━━━━━━━━━━━━━━━━━━━\u001B[0m\u001B[37m\u001B[0m \u001B[1m1s\u001B[0m 24ms/step - accuracy: 1.0000 - loss: 0.0040 - val_accuracy: 0.9375 - val_loss: 0.2727\n",
      "Epoch 42/60\n",
      "\u001B[1m22/22\u001B[0m \u001B[32m━━━━━━━━━━━━━━━━━━━━\u001B[0m\u001B[37m\u001B[0m \u001B[1m1s\u001B[0m 23ms/step - accuracy: 1.0000 - loss: 0.0035 - val_accuracy: 0.9318 - val_loss: 0.2797\n",
      "Epoch 43/60\n",
      "\u001B[1m22/22\u001B[0m \u001B[32m━━━━━━━━━━━━━━━━━━━━\u001B[0m\u001B[37m\u001B[0m \u001B[1m1s\u001B[0m 23ms/step - accuracy: 1.0000 - loss: 0.0032 - val_accuracy: 0.9318 - val_loss: 0.2834\n",
      "Epoch 44/60\n",
      "\u001B[1m22/22\u001B[0m \u001B[32m━━━━━━━━━━━━━━━━━━━━\u001B[0m\u001B[37m\u001B[0m \u001B[1m1s\u001B[0m 22ms/step - accuracy: 1.0000 - loss: 0.0030 - val_accuracy: 0.9261 - val_loss: 0.2739\n",
      "Epoch 45/60\n",
      "\u001B[1m22/22\u001B[0m \u001B[32m━━━━━━━━━━━━━━━━━━━━\u001B[0m\u001B[37m\u001B[0m \u001B[1m1s\u001B[0m 23ms/step - accuracy: 1.0000 - loss: 0.0028 - val_accuracy: 0.9261 - val_loss: 0.2858\n",
      "Epoch 46/60\n",
      "\u001B[1m22/22\u001B[0m \u001B[32m━━━━━━━━━━━━━━━━━━━━\u001B[0m\u001B[37m\u001B[0m \u001B[1m1s\u001B[0m 23ms/step - accuracy: 1.0000 - loss: 0.0025 - val_accuracy: 0.9261 - val_loss: 0.2958\n",
      "Epoch 47/60\n",
      "\u001B[1m22/22\u001B[0m \u001B[32m━━━━━━━━━━━━━━━━━━━━\u001B[0m\u001B[37m\u001B[0m \u001B[1m1s\u001B[0m 23ms/step - accuracy: 1.0000 - loss: 0.0024 - val_accuracy: 0.9261 - val_loss: 0.2946\n",
      "Epoch 48/60\n",
      "\u001B[1m22/22\u001B[0m \u001B[32m━━━━━━━━━━━━━━━━━━━━\u001B[0m\u001B[37m\u001B[0m \u001B[1m1s\u001B[0m 22ms/step - accuracy: 1.0000 - loss: 0.0022 - val_accuracy: 0.9261 - val_loss: 0.3034\n",
      "Epoch 49/60\n",
      "\u001B[1m22/22\u001B[0m \u001B[32m━━━━━━━━━━━━━━━━━━━━\u001B[0m\u001B[37m\u001B[0m \u001B[1m1s\u001B[0m 23ms/step - accuracy: 1.0000 - loss: 0.0020 - val_accuracy: 0.9261 - val_loss: 0.3007\n",
      "Epoch 50/60\n",
      "\u001B[1m22/22\u001B[0m \u001B[32m━━━━━━━━━━━━━━━━━━━━\u001B[0m\u001B[37m\u001B[0m \u001B[1m1s\u001B[0m 24ms/step - accuracy: 1.0000 - loss: 0.0019 - val_accuracy: 0.9261 - val_loss: 0.3054\n",
      "Epoch 51/60\n",
      "\u001B[1m22/22\u001B[0m \u001B[32m━━━━━━━━━━━━━━━━━━━━\u001B[0m\u001B[37m\u001B[0m \u001B[1m1s\u001B[0m 22ms/step - accuracy: 1.0000 - loss: 0.0018 - val_accuracy: 0.9261 - val_loss: 0.3095\n",
      "Epoch 52/60\n",
      "\u001B[1m22/22\u001B[0m \u001B[32m━━━━━━━━━━━━━━━━━━━━\u001B[0m\u001B[37m\u001B[0m \u001B[1m1s\u001B[0m 23ms/step - accuracy: 1.0000 - loss: 0.0017 - val_accuracy: 0.9318 - val_loss: 0.3101\n",
      "Epoch 53/60\n",
      "\u001B[1m22/22\u001B[0m \u001B[32m━━━━━━━━━━━━━━━━━━━━\u001B[0m\u001B[37m\u001B[0m \u001B[1m1s\u001B[0m 23ms/step - accuracy: 1.0000 - loss: 0.0016 - val_accuracy: 0.9318 - val_loss: 0.3118\n",
      "Epoch 54/60\n",
      "\u001B[1m22/22\u001B[0m \u001B[32m━━━━━━━━━━━━━━━━━━━━\u001B[0m\u001B[37m\u001B[0m \u001B[1m1s\u001B[0m 23ms/step - accuracy: 1.0000 - loss: 0.0015 - val_accuracy: 0.9261 - val_loss: 0.3147\n",
      "Epoch 55/60\n",
      "\u001B[1m22/22\u001B[0m \u001B[32m━━━━━━━━━━━━━━━━━━━━\u001B[0m\u001B[37m\u001B[0m \u001B[1m1s\u001B[0m 23ms/step - accuracy: 1.0000 - loss: 0.0015 - val_accuracy: 0.9318 - val_loss: 0.3140\n",
      "Epoch 56/60\n",
      "\u001B[1m22/22\u001B[0m \u001B[32m━━━━━━━━━━━━━━━━━━━━\u001B[0m\u001B[37m\u001B[0m \u001B[1m1s\u001B[0m 23ms/step - accuracy: 1.0000 - loss: 0.0014 - val_accuracy: 0.9261 - val_loss: 0.3149\n",
      "Epoch 57/60\n",
      "\u001B[1m22/22\u001B[0m \u001B[32m━━━━━━━━━━━━━━━━━━━━\u001B[0m\u001B[37m\u001B[0m \u001B[1m1s\u001B[0m 23ms/step - accuracy: 1.0000 - loss: 0.0013 - val_accuracy: 0.9318 - val_loss: 0.3189\n",
      "Epoch 58/60\n",
      "\u001B[1m22/22\u001B[0m \u001B[32m━━━━━━━━━━━━━━━━━━━━\u001B[0m\u001B[37m\u001B[0m \u001B[1m1s\u001B[0m 23ms/step - accuracy: 1.0000 - loss: 0.0013 - val_accuracy: 0.9318 - val_loss: 0.3173\n",
      "Epoch 59/60\n",
      "\u001B[1m22/22\u001B[0m \u001B[32m━━━━━━━━━━━━━━━━━━━━\u001B[0m\u001B[37m\u001B[0m \u001B[1m1s\u001B[0m 22ms/step - accuracy: 1.0000 - loss: 0.0012 - val_accuracy: 0.9318 - val_loss: 0.3212\n",
      "Epoch 60/60\n",
      "\u001B[1m22/22\u001B[0m \u001B[32m━━━━━━━━━━━━━━━━━━━━\u001B[0m\u001B[37m\u001B[0m \u001B[1m1s\u001B[0m 23ms/step - accuracy: 1.0000 - loss: 0.0012 - val_accuracy: 0.9261 - val_loss: 0.3241\n"
     ]
    }
   ],
   "execution_count": 67
  },
  {
   "metadata": {
    "ExecuteTime": {
     "end_time": "2025-09-14T10:02:47.675945Z",
     "start_time": "2025-09-14T10:02:47.505563Z"
    }
   },
   "cell_type": "code",
   "source": [
    "loss, acc = model.evaluate(X_test, y_test)\n",
    "print(f\"Test Accuracy: {acc:.2f}\")\n",
    "print(f\"Loss: {loss:.2f}\")"
   ],
   "id": "d5e42cd01e22595f",
   "outputs": [
    {
     "name": "stdout",
     "output_type": "stream",
     "text": [
      "\u001B[1m6/6\u001B[0m \u001B[32m━━━━━━━━━━━━━━━━━━━━\u001B[0m\u001B[37m\u001B[0m \u001B[1m0s\u001B[0m 14ms/step - accuracy: 0.9261 - loss: 0.3241\n",
      "Test Accuracy: 0.93\n",
      "Loss: 0.32\n"
     ]
    }
   ],
   "execution_count": 70
  },
  {
   "metadata": {
    "ExecuteTime": {
     "end_time": "2025-09-14T10:02:42.937012Z",
     "start_time": "2025-09-14T10:02:42.894484Z"
    }
   },
   "cell_type": "code",
   "source": "model.save(\"cortana_detector.keras\")",
   "id": "9925f28e7561799e",
   "outputs": [],
   "execution_count": 69
  },
  {
   "metadata": {},
   "cell_type": "code",
   "source": "",
   "id": "456115415242d8d7",
   "outputs": [],
   "execution_count": null
  },
  {
   "metadata": {},
   "cell_type": "markdown",
   "source": [
    "### Test End Here\n",
    "---"
   ],
   "id": "1eec0e5394844344"
  },
  {
   "metadata": {
    "ExecuteTime": {
     "end_time": "2025-09-14T09:53:43.147692Z",
     "start_time": "2025-09-14T09:53:43.137174Z"
    }
   },
   "cell_type": "code",
   "source": [
    "def preprocess_dataset():\n",
    "    print(\"Processing dataset...\")\n",
    "    all_mfccs = []\n",
    "    all_labels = []\n",
    "\n",
    "    expected_samples = int(SAMPLE_RATE * DURATION)\n",
    "\n",
    "    for label, dataset in enumerate([negative_dataset, positive_dataset]):\n",
    "        for index, file_name in enumerate(dataset):\n",
    "            file_path = os.path.join('..', 'samples', 'positive' if label == 1 else 'negative', file_name)\n",
    "\n",
    "            try:\n",
    "                signal, sr = librosa.load(file_path, sr=SAMPLE_RATE)\n",
    "                if len(signal) > expected_samples:\n",
    "                        signal = signal[:expected_samples]\n",
    "                elif len(signal) < expected_samples:\n",
    "                        signal = np.pad(signal, (0, expected_samples - len(signal)), 'constant')\n",
    "\n",
    "                mfcc = librosa.feature.mfcc(y=signal, sr=sr, n_mfcc=13, n_fft=2048, hop_length=512)\n",
    "\n",
    "                mfcc = mfcc.T\n",
    "\n",
    "                all_mfccs.append(mfcc)\n",
    "                all_labels.append(label)\n",
    "\n",
    "                print(f'Processed data {index}:{file_name} success')\n",
    "            except Exception as e:\n",
    "                print(f'Failed to process {file_name}: {e}')\n",
    "\n",
    "    return np.array(all_mfccs), np.array(all_labels)"
   ],
   "id": "636fee67e620666c",
   "outputs": [],
   "execution_count": 65
  },
  {
   "metadata": {},
   "cell_type": "code",
   "source": [
    "X_data, y_data = preprocess_dataset()\n",
    "\n",
    "print(f\"Shape of X_data (MFCCs): {X_data.shape}\")\n",
    "print(f\"Shape of y_data (labels): {y_data.shape}\")"
   ],
   "id": "8a3cc7540223b2e6",
   "outputs": [],
   "execution_count": null
  },
  {
   "metadata": {},
   "cell_type": "code",
   "source": "X_data = X_data[..., np.newaxis]",
   "id": "8c1e71efc2a868f5",
   "outputs": [],
   "execution_count": null
  },
  {
   "metadata": {},
   "cell_type": "code",
   "source": [
    "from sklearn.model_selection import train_test_split\n",
    "from tensorflow.keras import layers, models"
   ],
   "id": "eaade408b2ac6a26",
   "outputs": [],
   "execution_count": null
  },
  {
   "metadata": {},
   "cell_type": "code",
   "source": [
    "X_train, X_test, y_train, y_test = train_test_split(\n",
    "    X_data, y_data, test_size=0.2, random_state=42, stratify=y_data\n",
    ")"
   ],
   "id": "7deb7b429808a7e5",
   "outputs": [],
   "execution_count": null
  },
  {
   "metadata": {},
   "cell_type": "markdown",
   "source": "Data split into training and testing sets",
   "id": "136a52daf7a93b1c"
  },
  {
   "metadata": {},
   "cell_type": "code",
   "source": [
    "print(\"X_train shape:\", X_train.shape)\n",
    "print(\"X_test shape:\", X_test.shape)"
   ],
   "id": "45563aa0c57caff5",
   "outputs": [],
   "execution_count": null
  },
  {
   "metadata": {},
   "cell_type": "code",
   "source": "input_shape = (X_train.shape[1], X_train.shape[2], 1)",
   "id": "d2c6d77eaedd005b",
   "outputs": [],
   "execution_count": null
  },
  {
   "metadata": {},
   "cell_type": "code",
   "source": [
    "model = models.Sequential([\n",
    "    # Input Layer\n",
    "    layers.Input(shape=input_shape),\n",
    "\n",
    "    # # First Convolutional Block\n",
    "    layers.Conv2D(32, kernel_size=(3, 3), activation='relu'),\n",
    "    layers.MaxPooling2D(pool_size=(2, 2)),\n",
    "\n",
    "    # Second Convolutional Block\n",
    "    layers.Conv2D(64, kernel_size=(3, 3), activation='relu'),\n",
    "    layers.MaxPooling2D(pool_size=(2, 2)),\n",
    "\n",
    "    # Flatten the features to feed into the dense layer\n",
    "    layers.Flatten(),\n",
    "\n",
    "    # Dense Layer for classification\n",
    "    layers.Dense(64, activation='relu'),\n",
    "    layers.Dropout(0.5), # Dropout helps prevent overfitting\n",
    "\n",
    "    # Output Layer\n",
    "    # Sigmoid is used for binary (2-class) classification\n",
    "    layers.Dense(1, activation='sigmoid')\n",
    "])"
   ],
   "id": "28b67adea945b578",
   "outputs": [],
   "execution_count": null
  },
  {
   "metadata": {},
   "cell_type": "code",
   "source": "model.summary()",
   "id": "f32d9d8a6ee9b9a4",
   "outputs": [],
   "execution_count": null
  },
  {
   "metadata": {},
   "cell_type": "code",
   "source": [
    "model.compile(\n",
    "    optimizer='adam',\n",
    "    loss='binary_crossentropy', # Perfect for Yes/No (1/0) classification\n",
    "    metrics=['accuracy']\n",
    ")"
   ],
   "id": "6a5ed448687abaf5",
   "outputs": [],
   "execution_count": null
  },
  {
   "metadata": {},
   "cell_type": "markdown",
   "source": "Model Training",
   "id": "69f9e44833d18065"
  },
  {
   "metadata": {},
   "cell_type": "code",
   "source": [
    "history = model.fit(\n",
    "    X_train,\n",
    "    y_train,\n",
    "    epochs=20,\n",
    "    batch_size=32,\n",
    "    validation_data=(X_test, y_test)\n",
    ")"
   ],
   "id": "33fc0ce7d0fd4e79",
   "outputs": [],
   "execution_count": null
  },
  {
   "metadata": {},
   "cell_type": "markdown",
   "source": "Training Complete",
   "id": "6de880b281f77987"
  },
  {
   "metadata": {},
   "cell_type": "code",
   "source": "model.save('wake_word.keras')",
   "id": "ba756c7e3389417",
   "outputs": [],
   "execution_count": null
  }
 ],
 "metadata": {
  "kernelspec": {
   "display_name": "Python 3",
   "language": "python",
   "name": "python3"
  },
  "language_info": {
   "codemirror_mode": {
    "name": "ipython",
    "version": 2
   },
   "file_extension": ".py",
   "mimetype": "text/x-python",
   "name": "python",
   "nbconvert_exporter": "python",
   "pygments_lexer": "ipython2",
   "version": "2.7.6"
  }
 },
 "nbformat": 4,
 "nbformat_minor": 5
}
