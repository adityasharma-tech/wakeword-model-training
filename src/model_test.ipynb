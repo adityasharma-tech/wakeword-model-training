{
 "cells": [
  {
   "cell_type": "code",
   "id": "initial_id",
   "metadata": {
    "collapsed": true,
    "ExecuteTime": {
     "end_time": "2025-09-04T18:50:08.708100Z",
     "start_time": "2025-09-04T18:50:08.702591Z"
    }
   },
   "source": [
    "import os\n",
    "\n",
    "import tensorflow as tf\n",
    "import librosa\n",
    "import numpy as np\n",
    "import math"
   ],
   "outputs": [],
   "execution_count": 48
  },
  {
   "metadata": {
    "ExecuteTime": {
     "end_time": "2025-09-04T18:50:08.723337Z",
     "start_time": "2025-09-04T18:50:08.718819Z"
    }
   },
   "cell_type": "code",
   "source": [
    "model_path = 'wake_word.keras'\n",
    "audio_file_path = os.path.join('..', 'samples', 'positive', '0_sample.wav')"
   ],
   "id": "e0f6ae07040af6f0",
   "outputs": [],
   "execution_count": 49
  },
  {
   "metadata": {
    "ExecuteTime": {
     "end_time": "2025-09-04T18:50:08.773624Z",
     "start_time": "2025-09-04T18:50:08.769240Z"
    }
   },
   "cell_type": "code",
   "source": [
    "=SAMPLE_RATE = 16000\n",
    "DURATION = 1.5\n",
    "SAMPLES_PER_TRACK = int(SAMPLE_RATE * DURATION)\n",
    "N_MFCC = 13\n",
    "N_FFT = 2048\n",
    "HOP_LENGTH = 512\n",
    "\n",
    "\n",
    "PREDICTION_THRESHOLD = 0.95"
   ],
   "id": "1a9e4de20d4684bf",
   "outputs": [],
   "execution_count": 50
  },
  {
   "metadata": {
    "ExecuteTime": {
     "end_time": "2025-09-04T18:50:08.830043Z",
     "start_time": "2025-09-04T18:50:08.819274Z"
    }
   },
   "cell_type": "code",
   "source": [
    "def predict_wake_word(model, audio_file_path):\n",
    "    print(f\"Scanning audio file: {audio_file_path}...\")\n",
    "\n",
    "    try:\n",
    "        signal, sr = librosa.load(audio_file_path, sr=SAMPLE_RATE)\n",
    "    except Exception as e:\n",
    "        print(f\"Error loading audio file: {e}\")\n",
    "        return\n",
    "\n",
    "    num_samples_in_window = int(DURATION * sr)\n",
    "    step_size = int(0.25 * sr)\n",
    "    detections = 0\n",
    "\n",
    "    for i in range(0, len(signal) - num_samples_in_window, step_size):\n",
    "        window = signal[i : i + num_samples_in_window]\n",
    "        mfcc = librosa.feature.mfcc(y=window, sr=sr, n_mfcc=N_MFCC, n_fft=N_FFT, hop_length=HOP_LENGTH)\n",
    "        mfcc = mfcc.T\n",
    "        mfcc_reshaped = mfcc[np.newaxis, ..., np.newaxis]\n",
    "        prediction = model.predict(mfcc_reshaped, verbose=0)\n",
    "        predicted_probability = prediction[0][0]\n",
    "\n",
    "        if predicted_probability > PREDICTION_THRESHOLD:\n",
    "            detections += 1\n",
    "            timestamp = i / sr\n",
    "            print(f\"Wake word DETECTED at: {timestamp:.2f} seconds with {predicted_probability:.2f} confidence.\")\n",
    "\n",
    "    if detections == 0:\n",
    "        print(\"No wake word was detected in the file.\")\n",
    "    else:\n",
    "        print(f\"\\nScan complete. Found {detections} potential detections.\")\n"
   ],
   "id": "d5ae891988e28f87",
   "outputs": [],
   "execution_count": 51
  },
  {
   "metadata": {
    "ExecuteTime": {
     "end_time": "2025-09-04T18:50:09.018960Z",
     "start_time": "2025-09-04T18:50:08.879586Z"
    }
   },
   "cell_type": "code",
   "source": [
    "model = tf.keras.models.load_model(model_path)\n",
    "predict_wake_word(model, audio_file_path)"
   ],
   "id": "4cdc9331f9742138",
   "outputs": [
    {
     "name": "stdout",
     "output_type": "stream",
     "text": [
      "Scanning audio file: ../samples/positive/0_sample.wav...\n",
      "No wake word was detected in the file.\n"
     ]
    }
   ],
   "execution_count": 52
  }
 ],
 "metadata": {
  "kernelspec": {
   "display_name": "Python 3",
   "language": "python",
   "name": "python3"
  },
  "language_info": {
   "codemirror_mode": {
    "name": "ipython",
    "version": 2
   },
   "file_extension": ".py",
   "mimetype": "text/x-python",
   "name": "python",
   "nbconvert_exporter": "python",
   "pygments_lexer": "ipython2",
   "version": "2.7.6"
  }
 },
 "nbformat": 4,
 "nbformat_minor": 5
}
