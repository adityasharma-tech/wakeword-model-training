{
 "cells": [
  {
   "metadata": {
    "ExecuteTime": {
     "end_time": "2025-09-14T09:57:49.281688Z",
     "start_time": "2025-09-14T09:57:49.275804Z"
    }
   },
   "cell_type": "code",
   "source": [
    "import librosa\n",
    "import numpy as np\n",
    "import tensorflow as tf\n",
    "import os"
   ],
   "id": "972832df3c4f8ceb",
   "outputs": [],
   "execution_count": 8
  },
  {
   "metadata": {
    "ExecuteTime": {
     "end_time": "2025-09-14T09:57:51.108244Z",
     "start_time": "2025-09-14T09:57:51.104458Z"
    }
   },
   "cell_type": "code",
   "source": [
    "SAMPLE_RATE = 8000\n",
    "DURATION = 1.5\n",
    "N_MFCC = 40"
   ],
   "id": "7e16c18f97f5c19b",
   "outputs": [],
   "execution_count": 9
  },
  {
   "metadata": {
    "ExecuteTime": {
     "end_time": "2025-09-14T09:57:52.015210Z",
     "start_time": "2025-09-14T09:57:52.010968Z"
    }
   },
   "cell_type": "code",
   "source": "MODEL_PATH = \"cortana_detector.keras\"",
   "id": "6cfca7d92656bfdb",
   "outputs": [],
   "execution_count": 10
  },
  {
   "metadata": {
    "ExecuteTime": {
     "end_time": "2025-09-14T09:57:53.063517Z",
     "start_time": "2025-09-14T09:57:53.057643Z"
    }
   },
   "cell_type": "code",
   "source": "AUDIO_FOLDER = \"../samples/trash\"",
   "id": "ef8121106420c3d7",
   "outputs": [],
   "execution_count": 11
  },
  {
   "metadata": {
    "ExecuteTime": {
     "end_time": "2025-09-14T10:02:59.612031Z",
     "start_time": "2025-09-14T10:02:59.500940Z"
    }
   },
   "cell_type": "code",
   "source": "model = tf.keras.models.load_model(MODEL_PATH)",
   "id": "ef20fd2548b1a368",
   "outputs": [],
   "execution_count": 16
  },
  {
   "metadata": {
    "ExecuteTime": {
     "end_time": "2025-09-14T10:03:02.306857Z",
     "start_time": "2025-09-14T10:03:02.300277Z"
    }
   },
   "cell_type": "code",
   "source": [
    "def extract_features(file_path):\n",
    "    y, sr = librosa.load(file_path, sr=SAMPLE_RATE, duration=DURATION)\n",
    "    mfcc = librosa.feature.mfcc(y=y, sr=sr, n_mfcc=N_MFCC)\n",
    "    mfcc_mean = np.mean(mfcc.T, axis=0)\n",
    "    return mfcc_mean"
   ],
   "id": "ad8784d23dbbc609",
   "outputs": [],
   "execution_count": 17
  },
  {
   "metadata": {
    "ExecuteTime": {
     "end_time": "2025-09-14T10:03:19.178659Z",
     "start_time": "2025-09-14T10:03:16.359995Z"
    }
   },
   "cell_type": "code",
   "source": [
    "for file in os.listdir(AUDIO_FOLDER):\n",
    "    if not file.endswith(\".wav\"):\n",
    "        continue\n",
    "\n",
    "    path = os.path.join(AUDIO_FOLDER, file)\n",
    "    features = extract_features(path)\n",
    "    features = features.reshape(1, -1)\n",
    "\n",
    "    prediction = model.predict(features, verbose=0)[0][0]\n",
    "    label = \"Cortana\" if prediction > 0.9 else \"Not Cortana\"\n",
    "\n",
    "    print(f\"{file} → Prediction: {prediction:.3f} → Classified as: {label}\")"
   ],
   "id": "9ec5a2b19204dd97",
   "outputs": [
    {
     "name": "stdout",
     "output_type": "stream",
     "text": [
      "165_sample.wav → Prediction: 0.000 → Classified as: Not Cortana\n",
      "195_sample.wav → Prediction: 0.753 → Classified as: Not Cortana\n",
      "31_sample.wav → Prediction: 0.999 → Classified as: Cortana\n",
      "33_sample.wav → Prediction: 1.000 → Classified as: Cortana\n",
      "364_sample.wav → Prediction: 1.000 → Classified as: Cortana\n",
      "170_sample.wav → Prediction: 0.680 → Classified as: Not Cortana\n",
      "143_sample.wav → Prediction: 0.002 → Classified as: Not Cortana\n",
      "388_sample.wav → Prediction: 1.000 → Classified as: Cortana\n",
      "389_sample.wav → Prediction: 1.000 → Classified as: Cortana\n",
      "248_sample.wav → Prediction: 0.000 → Classified as: Not Cortana\n",
      "19_sample.wav → Prediction: 0.998 → Classified as: Cortana\n",
      "217_sample.wav → Prediction: 1.000 → Classified as: Cortana\n",
      "20_sample.wav → Prediction: 1.000 → Classified as: Cortana\n",
      "244_sample.wav → Prediction: 1.000 → Classified as: Cortana\n",
      "224_sample.wav → Prediction: 0.007 → Classified as: Not Cortana\n",
      "22_sample.wav → Prediction: 0.989 → Classified as: Cortana\n",
      "113_sample.wav → Prediction: 1.000 → Classified as: Cortana\n",
      "198_sample.wav → Prediction: 0.016 → Classified as: Not Cortana\n",
      "9_sample.wav → Prediction: 0.001 → Classified as: Not Cortana\n",
      "73_sample.wav → Prediction: 1.000 → Classified as: Cortana\n",
      "315_sample.wav → Prediction: 0.002 → Classified as: Not Cortana\n",
      "175_sample.wav → Prediction: 1.000 → Classified as: Cortana\n",
      "149_sample.wav → Prediction: 0.875 → Classified as: Not Cortana\n",
      "38_sample.wav → Prediction: 1.000 → Classified as: Cortana\n"
     ]
    }
   ],
   "execution_count": 19
  },
  {
   "metadata": {},
   "cell_type": "markdown",
   "source": [
    "---\n",
    "### Audio Record And Recognize Speaker & Wakeword\n",
    "---"
   ],
   "id": "e37deb6b0e21675e"
  },
  {
   "metadata": {},
   "cell_type": "code",
   "outputs": [],
   "execution_count": null,
   "source": "import pyaudio",
   "id": "23c4da64ee0686f3"
  },
  {
   "metadata": {},
   "cell_type": "code",
   "outputs": [],
   "execution_count": null,
   "source": "py = pyaudio.PyAudio()",
   "id": "728475c404b8cdec"
  }
 ],
 "metadata": {
  "kernelspec": {
   "display_name": "Python 3",
   "language": "python",
   "name": "python3"
  },
  "language_info": {
   "codemirror_mode": {
    "name": "ipython",
    "version": 2
   },
   "file_extension": ".py",
   "mimetype": "text/x-python",
   "name": "python",
   "nbconvert_exporter": "python",
   "pygments_lexer": "ipython2",
   "version": "2.7.6"
  }
 },
 "nbformat": 4,
 "nbformat_minor": 5
}
